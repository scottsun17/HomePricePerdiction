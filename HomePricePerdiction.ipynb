{
 "cells": [
  {
   "cell_type": "markdown",
   "metadata": {},
   "source": [
    "## Varibles that affect the prices of homes in each neighborhood\n",
    "\n",
    "The price of homes is different in each neighborhood. The problem raised here is that what factors contributed more to the price in each neighborhood.\n",
    "\n",
    "## Dataset for each neighborhood\n",
    "The original dataset comes from <a href=\"https://www.kaggle.com/c/house-prices-advanced-regression-techniques/data\">Kaggle</a>\n",
    "<br />\n",
    "<br />\n"
   ]
  },
  {
   "cell_type": "code",
   "execution_count": 106,
   "metadata": {},
   "outputs": [],
   "source": [
    "import pandas as pd\n",
    "import matplotlib.pyplot as plt\n",
    "import numpy as np\n",
    "\n",
    "import seaborn as sns\n",
    "\n",
    "from scipy import stats\n",
    "from scipy.stats import norm\n",
    "from sklearn.preprocessing import StandardScaler\n",
    "import warnings\n",
    "warnings.filterwarnings('ignore')\n",
    "%matplotlib inline"
   ]
  },
  {
   "cell_type": "code",
   "execution_count": 107,
   "metadata": {},
   "outputs": [],
   "source": [
    "data_train = pd.read_csv(\"https://raw.githubusercontent.com/scottsun17/HomePricePrediction/master/Data/train.csv\")"
   ]
  },
  {
   "cell_type": "code",
   "execution_count": 108,
   "metadata": {},
   "outputs": [
    {
     "data": {
      "text/html": [
       "<div>\n",
       "<style scoped>\n",
       "    .dataframe tbody tr th:only-of-type {\n",
       "        vertical-align: middle;\n",
       "    }\n",
       "\n",
       "    .dataframe tbody tr th {\n",
       "        vertical-align: top;\n",
       "    }\n",
       "\n",
       "    .dataframe thead th {\n",
       "        text-align: right;\n",
       "    }\n",
       "</style>\n",
       "<table border=\"1\" class=\"dataframe\">\n",
       "  <thead>\n",
       "    <tr style=\"text-align: right;\">\n",
       "      <th></th>\n",
       "      <th>Id</th>\n",
       "      <th>MSSubClass</th>\n",
       "      <th>MSZoning</th>\n",
       "      <th>LotFrontage</th>\n",
       "      <th>LotArea</th>\n",
       "      <th>Street</th>\n",
       "      <th>Alley</th>\n",
       "      <th>LotShape</th>\n",
       "      <th>LandContour</th>\n",
       "      <th>Utilities</th>\n",
       "      <th>...</th>\n",
       "      <th>PoolArea</th>\n",
       "      <th>PoolQC</th>\n",
       "      <th>Fence</th>\n",
       "      <th>MiscFeature</th>\n",
       "      <th>MiscVal</th>\n",
       "      <th>MoSold</th>\n",
       "      <th>YrSold</th>\n",
       "      <th>SaleType</th>\n",
       "      <th>SaleCondition</th>\n",
       "      <th>SalePrice</th>\n",
       "    </tr>\n",
       "  </thead>\n",
       "  <tbody>\n",
       "    <tr>\n",
       "      <th>0</th>\n",
       "      <td>1</td>\n",
       "      <td>60</td>\n",
       "      <td>RL</td>\n",
       "      <td>65.0</td>\n",
       "      <td>8450</td>\n",
       "      <td>Pave</td>\n",
       "      <td>NaN</td>\n",
       "      <td>Reg</td>\n",
       "      <td>Lvl</td>\n",
       "      <td>AllPub</td>\n",
       "      <td>...</td>\n",
       "      <td>0</td>\n",
       "      <td>NaN</td>\n",
       "      <td>NaN</td>\n",
       "      <td>NaN</td>\n",
       "      <td>0</td>\n",
       "      <td>2</td>\n",
       "      <td>2008</td>\n",
       "      <td>WD</td>\n",
       "      <td>Normal</td>\n",
       "      <td>208500</td>\n",
       "    </tr>\n",
       "    <tr>\n",
       "      <th>1</th>\n",
       "      <td>2</td>\n",
       "      <td>20</td>\n",
       "      <td>RL</td>\n",
       "      <td>80.0</td>\n",
       "      <td>9600</td>\n",
       "      <td>Pave</td>\n",
       "      <td>NaN</td>\n",
       "      <td>Reg</td>\n",
       "      <td>Lvl</td>\n",
       "      <td>AllPub</td>\n",
       "      <td>...</td>\n",
       "      <td>0</td>\n",
       "      <td>NaN</td>\n",
       "      <td>NaN</td>\n",
       "      <td>NaN</td>\n",
       "      <td>0</td>\n",
       "      <td>5</td>\n",
       "      <td>2007</td>\n",
       "      <td>WD</td>\n",
       "      <td>Normal</td>\n",
       "      <td>181500</td>\n",
       "    </tr>\n",
       "    <tr>\n",
       "      <th>2</th>\n",
       "      <td>3</td>\n",
       "      <td>60</td>\n",
       "      <td>RL</td>\n",
       "      <td>68.0</td>\n",
       "      <td>11250</td>\n",
       "      <td>Pave</td>\n",
       "      <td>NaN</td>\n",
       "      <td>IR1</td>\n",
       "      <td>Lvl</td>\n",
       "      <td>AllPub</td>\n",
       "      <td>...</td>\n",
       "      <td>0</td>\n",
       "      <td>NaN</td>\n",
       "      <td>NaN</td>\n",
       "      <td>NaN</td>\n",
       "      <td>0</td>\n",
       "      <td>9</td>\n",
       "      <td>2008</td>\n",
       "      <td>WD</td>\n",
       "      <td>Normal</td>\n",
       "      <td>223500</td>\n",
       "    </tr>\n",
       "    <tr>\n",
       "      <th>3</th>\n",
       "      <td>4</td>\n",
       "      <td>70</td>\n",
       "      <td>RL</td>\n",
       "      <td>60.0</td>\n",
       "      <td>9550</td>\n",
       "      <td>Pave</td>\n",
       "      <td>NaN</td>\n",
       "      <td>IR1</td>\n",
       "      <td>Lvl</td>\n",
       "      <td>AllPub</td>\n",
       "      <td>...</td>\n",
       "      <td>0</td>\n",
       "      <td>NaN</td>\n",
       "      <td>NaN</td>\n",
       "      <td>NaN</td>\n",
       "      <td>0</td>\n",
       "      <td>2</td>\n",
       "      <td>2006</td>\n",
       "      <td>WD</td>\n",
       "      <td>Abnorml</td>\n",
       "      <td>140000</td>\n",
       "    </tr>\n",
       "    <tr>\n",
       "      <th>4</th>\n",
       "      <td>5</td>\n",
       "      <td>60</td>\n",
       "      <td>RL</td>\n",
       "      <td>84.0</td>\n",
       "      <td>14260</td>\n",
       "      <td>Pave</td>\n",
       "      <td>NaN</td>\n",
       "      <td>IR1</td>\n",
       "      <td>Lvl</td>\n",
       "      <td>AllPub</td>\n",
       "      <td>...</td>\n",
       "      <td>0</td>\n",
       "      <td>NaN</td>\n",
       "      <td>NaN</td>\n",
       "      <td>NaN</td>\n",
       "      <td>0</td>\n",
       "      <td>12</td>\n",
       "      <td>2008</td>\n",
       "      <td>WD</td>\n",
       "      <td>Normal</td>\n",
       "      <td>250000</td>\n",
       "    </tr>\n",
       "  </tbody>\n",
       "</table>\n",
       "<p>5 rows × 81 columns</p>\n",
       "</div>"
      ],
      "text/plain": [
       "   Id  MSSubClass MSZoning  LotFrontage  LotArea Street Alley LotShape  \\\n",
       "0   1          60       RL         65.0     8450   Pave   NaN      Reg   \n",
       "1   2          20       RL         80.0     9600   Pave   NaN      Reg   \n",
       "2   3          60       RL         68.0    11250   Pave   NaN      IR1   \n",
       "3   4          70       RL         60.0     9550   Pave   NaN      IR1   \n",
       "4   5          60       RL         84.0    14260   Pave   NaN      IR1   \n",
       "\n",
       "  LandContour Utilities  ... PoolArea PoolQC Fence MiscFeature MiscVal MoSold  \\\n",
       "0         Lvl    AllPub  ...        0    NaN   NaN         NaN       0      2   \n",
       "1         Lvl    AllPub  ...        0    NaN   NaN         NaN       0      5   \n",
       "2         Lvl    AllPub  ...        0    NaN   NaN         NaN       0      9   \n",
       "3         Lvl    AllPub  ...        0    NaN   NaN         NaN       0      2   \n",
       "4         Lvl    AllPub  ...        0    NaN   NaN         NaN       0     12   \n",
       "\n",
       "  YrSold  SaleType  SaleCondition  SalePrice  \n",
       "0   2008        WD         Normal     208500  \n",
       "1   2007        WD         Normal     181500  \n",
       "2   2008        WD         Normal     223500  \n",
       "3   2006        WD        Abnorml     140000  \n",
       "4   2008        WD         Normal     250000  \n",
       "\n",
       "[5 rows x 81 columns]"
      ]
     },
     "execution_count": 108,
     "metadata": {},
     "output_type": "execute_result"
    }
   ],
   "source": [
    "data_train.head()"
   ]
  },
  {
   "cell_type": "code",
   "execution_count": 109,
   "metadata": {},
   "outputs": [
    {
     "data": {
      "text/plain": [
       "array(['CollgCr', 'Veenker', 'Crawfor', 'NoRidge', 'Mitchel', 'Somerst',\n",
       "       'NWAmes', 'OldTown', 'BrkSide', 'Sawyer', 'NridgHt', 'NAmes',\n",
       "       'SawyerW', 'IDOTRR', 'MeadowV', 'Edwards', 'Timber', 'Gilbert',\n",
       "       'StoneBr', 'ClearCr', 'NPkVill', 'Blmngtn', 'BrDale', 'SWISU',\n",
       "       'Blueste'], dtype=object)"
      ]
     },
     "execution_count": 109,
     "metadata": {},
     "output_type": "execute_result"
    }
   ],
   "source": [
    "data_train['Neighborhood'].unique()"
   ]
  },
  {
   "cell_type": "code",
   "execution_count": 110,
   "metadata": {},
   "outputs": [
    {
     "data": {
      "text/plain": [
       "count      1460.000000\n",
       "mean     180921.195890\n",
       "std       79442.502883\n",
       "min       34900.000000\n",
       "25%      129975.000000\n",
       "50%      163000.000000\n",
       "75%      214000.000000\n",
       "max      755000.000000\n",
       "Name: SalePrice, dtype: float64"
      ]
     },
     "execution_count": 110,
     "metadata": {},
     "output_type": "execute_result"
    }
   ],
   "source": [
    "# Since the purpose of this project to to project Sale price of homes. We take a look at the SalePrice\n",
    "data_train['SalePrice'].describe()"
   ]
  },
  {
   "cell_type": "code",
   "execution_count": 111,
   "metadata": {},
   "outputs": [
    {
     "data": {
      "text/plain": [
       "Index(['Id', 'MSSubClass', 'MSZoning', 'LotFrontage', 'LotArea', 'Street',\n",
       "       'Alley', 'LotShape', 'LandContour', 'Utilities', 'LotConfig',\n",
       "       'LandSlope', 'Neighborhood', 'Condition1', 'Condition2', 'BldgType',\n",
       "       'HouseStyle', 'OverallQual', 'OverallCond', 'YearBuilt', 'YearRemodAdd',\n",
       "       'RoofStyle', 'RoofMatl', 'Exterior1st', 'Exterior2nd', 'MasVnrType',\n",
       "       'MasVnrArea', 'ExterQual', 'ExterCond', 'Foundation', 'BsmtQual',\n",
       "       'BsmtCond', 'BsmtExposure', 'BsmtFinType1', 'BsmtFinSF1',\n",
       "       'BsmtFinType2', 'BsmtFinSF2', 'BsmtUnfSF', 'TotalBsmtSF', 'Heating',\n",
       "       'HeatingQC', 'CentralAir', 'Electrical', '1stFlrSF', '2ndFlrSF',\n",
       "       'LowQualFinSF', 'GrLivArea', 'BsmtFullBath', 'BsmtHalfBath', 'FullBath',\n",
       "       'HalfBath', 'BedroomAbvGr', 'KitchenAbvGr', 'KitchenQual',\n",
       "       'TotRmsAbvGrd', 'Functional', 'Fireplaces', 'FireplaceQu', 'GarageType',\n",
       "       'GarageYrBlt', 'GarageFinish', 'GarageCars', 'GarageArea', 'GarageQual',\n",
       "       'GarageCond', 'PavedDrive', 'WoodDeckSF', 'OpenPorchSF',\n",
       "       'EnclosedPorch', '3SsnPorch', 'ScreenPorch', 'PoolArea', 'PoolQC',\n",
       "       'Fence', 'MiscFeature', 'MiscVal', 'MoSold', 'YrSold', 'SaleType',\n",
       "       'SaleCondition', 'SalePrice'],\n",
       "      dtype='object')"
      ]
     },
     "execution_count": 111,
     "metadata": {},
     "output_type": "execute_result"
    }
   ],
   "source": [
    "data_train.columns"
   ]
  },
  {
   "cell_type": "code",
   "execution_count": 112,
   "metadata": {},
   "outputs": [
    {
     "data": {
      "text/plain": [
       "(-0.5, 24.5, 0, 900000)"
      ]
     },
     "execution_count": 112,
     "metadata": {},
     "output_type": "execute_result"
    },
    {
     "data": {
      "image/png": "[encoded data removed]",
      "text/plain": [
       "<Figure size 1872x864 with 1 Axes>"
      ]
     },
     "metadata": {
      "needs_background": "light"
     },
     "output_type": "display_data"
    }
   ],
   "source": [
    "# Neighborhood\n",
    "data=pd.concat([data_train['SalePrice'], data_train['Neighborhood']], axis=1)\n",
    "f, ax = plt.subplots(figsize=(26,12))\n",
    "fig=sns.boxplot(x='Neighborhood', y='SalePrice', data=data)\n",
    "fig.axis(ymin=0,ymax=900000)"
   ]
  },
  {
   "cell_type": "markdown",
   "metadata": {},
   "source": [
    "Top Three:\n"
   ]
  },
  {
   "cell_type": "code",
   "execution_count": 113,
   "metadata": {},
   "outputs": [],
   "source": [
    "# get a list of all neighborhood\n",
    "neighborhood_list=data_train['Neighborhood'].unique()"
   ]
  },
  {
   "cell_type": "code",
   "execution_count": 114,
   "metadata": {},
   "outputs": [],
   "source": [
    "# Function to calculate the average SalePrice per neighborhood\n",
    "def averagePerNeighborhood(data, neighbor):\n",
    "    neighborhood = data[data.Neighborhood == neighbor]\n",
    "    count = len(neighborhood['Neighborhood'].index)\n",
    "    neighborhood_total = neighborhood.sum(axis=0)\n",
    "    neighborhood_average = neighborhood_total[0] / count\n",
    "    return int(neighborhood_average)"
   ]
  },
  {
   "cell_type": "code",
   "execution_count": 115,
   "metadata": {},
   "outputs": [],
   "source": [
    "neighborhood_average = {neighborhood: averagePerNeighborhood(data, neighborhood) for neighborhood in neighborhood_list}"
   ]
  },
  {
   "cell_type": "code",
   "execution_count": 116,
   "metadata": {},
   "outputs": [
    {
     "data": {
      "text/plain": [
       "{'CollgCr': 197965,\n",
       " 'Veenker': 238772,\n",
       " 'Crawfor': 210624,\n",
       " 'NoRidge': 335295,\n",
       " 'Mitchel': 156270,\n",
       " 'Somerst': 225379,\n",
       " 'NWAmes': 189050,\n",
       " 'OldTown': 128225,\n",
       " 'BrkSide': 124834,\n",
       " 'Sawyer': 136793,\n",
       " 'NridgHt': 316270,\n",
       " 'NAmes': 145847,\n",
       " 'SawyerW': 186555,\n",
       " 'IDOTRR': 100123,\n",
       " 'MeadowV': 98576,\n",
       " 'Edwards': 128219,\n",
       " 'Timber': 242247,\n",
       " 'Gilbert': 192854,\n",
       " 'StoneBr': 310499,\n",
       " 'ClearCr': 212565,\n",
       " 'NPkVill': 142694,\n",
       " 'Blmngtn': 194870,\n",
       " 'BrDale': 104493,\n",
       " 'SWISU': 142591,\n",
       " 'Blueste': 137500}"
      ]
     },
     "execution_count": 116,
     "metadata": {},
     "output_type": "execute_result"
    }
   ],
   "source": [
    "neighborhood_average"
   ]
  },
  {
   "cell_type": "code",
   "execution_count": 117,
   "metadata": {},
   "outputs": [
    {
     "name": "stdout",
     "output_type": "stream",
     "text": [
      "Top Three Neighborhoods:  ['NoRidge', 'NridgHt', 'StoneBr']\n",
      "Bottom Three Neighborhoods:  ['MeadowV', 'IDOTRR', 'BrDale']\n"
     ]
    }
   ],
   "source": [
    "# find top three neighborhood and bottom three neighborhood\n",
    "from heapq import nlargest,nsmallest\n",
    "\n",
    "top_three = nlargest(3, neighborhood_average, key = neighborhood_average.get)\n",
    "bot_three = nsmallest(3, neighborhood_average, key = neighborhood_average.get)\n",
    "print(\"Top Three Neighborhoods: \", top_three)\n",
    "print(\"Bottom Three Neighborhoods: \", bot_three)"
   ]
  },
  {
   "cell_type": "code",
   "execution_count": 118,
   "metadata": {},
   "outputs": [],
   "source": [
    "# save neighborhoods data to Top Three and Bottom Three\n",
    "data_top = data_train[(data_train.Neighborhood == 'NoRidge') | (data_train.Neighborhood == 'NridgHt') | (data_train.Neighborhood == 'StoneBr')]\n",
    "data_bot = data_train[(data_train.Neighborhood == 'MeadowV') | (data_train.Neighborhood == 'IDOTRR') | (data_train.Neighborhood == 'BrDale')]"
   ]
  },
  {
   "cell_type": "markdown",
   "metadata": {},
   "source": [
    "## Top and Bottom Three Neighborhood by Price Average\n",
    "<b>Top Three Neighborhood</b>: NoRidge, NridgHt, StoneBr <br />\n",
    "<b>Bottom Three Neighborhood</b>: MeadowV, IDOTRR, BrDale <br />\n",
    "<br />\n",
    "We run analysis to determine what varibles contribute the most for prices in overall area and in each neighborhood"
   ]
  },
  {
   "cell_type": "code",
   "execution_count": 119,
   "metadata": {},
   "outputs": [
    {
     "data": {
      "text/plain": [
       "Index(['Id', 'MSSubClass', 'MSZoning', 'LotFrontage', 'LotArea', 'Street',\n",
       "       'Alley', 'LotShape', 'LandContour', 'Utilities', 'LotConfig',\n",
       "       'LandSlope', 'Neighborhood', 'Condition1', 'Condition2', 'BldgType',\n",
       "       'HouseStyle', 'OverallQual', 'OverallCond', 'YearBuilt', 'YearRemodAdd',\n",
       "       'RoofStyle', 'RoofMatl', 'Exterior1st', 'Exterior2nd', 'MasVnrType',\n",
       "       'MasVnrArea', 'ExterQual', 'ExterCond', 'Foundation', 'BsmtQual',\n",
       "       'BsmtCond', 'BsmtExposure', 'BsmtFinType1', 'BsmtFinSF1',\n",
       "       'BsmtFinType2', 'BsmtFinSF2', 'BsmtUnfSF', 'TotalBsmtSF', 'Heating',\n",
       "       'HeatingQC', 'CentralAir', 'Electrical', '1stFlrSF', '2ndFlrSF',\n",
       "       'LowQualFinSF', 'GrLivArea', 'BsmtFullBath', 'BsmtHalfBath', 'FullBath',\n",
       "       'HalfBath', 'BedroomAbvGr', 'KitchenAbvGr', 'KitchenQual',\n",
       "       'TotRmsAbvGrd', 'Functional', 'Fireplaces', 'FireplaceQu', 'GarageType',\n",
       "       'GarageYrBlt', 'GarageFinish', 'GarageCars', 'GarageArea', 'GarageQual',\n",
       "       'GarageCond', 'PavedDrive', 'WoodDeckSF', 'OpenPorchSF',\n",
       "       'EnclosedPorch', '3SsnPorch', 'ScreenPorch', 'PoolArea', 'PoolQC',\n",
       "       'Fence', 'MiscFeature', 'MiscVal', 'MoSold', 'YrSold', 'SaleType',\n",
       "       'SaleCondition', 'SalePrice'],\n",
       "      dtype='object')"
      ]
     },
     "execution_count": 119,
     "metadata": {},
     "output_type": "execute_result"
    }
   ],
   "source": [
    "data_train.columns"
   ]
  },
  {
   "cell_type": "markdown",
   "metadata": {},
   "source": [
    "## I - Data Classfication\n",
    "<p>In order to perdict the home price better, we need to understand each varible's relationship with homeprice.\n",
    "<br /><br />\n",
    "    <b>Data Type:</b> \n",
    "    <li>Numeric - 0</li>\n",
    "    <li>Non-Numeric - 1</li>\n",
    "    <br />\n",
    "    <b>Varible Classification:</b>\n",
    "    <li>Building related - 0</li>\n",
    "    <li>Space/Room - 1</li>\n",
    "    <li>Location - 2</li>\n",
    "<br />\n",
    "</p>\n",
    "\n",
    "### From the above varibles, we picked some common varibles that people tend to consider when purchasing a new home\n",
    "\n",
    "\n",
    "| Varible | Classification | Data Type |\n",
    "| ------- | -------------- | --------- |\n",
    "|LotArea | 0 | 1 |\n",
    "|GrLivArea | 0 | 1 |\n",
    "|TotalBsmtSF | 0 | 1 |\n",
    "|GarageArea | 0 | 1 |\n",
    "|MiscVal | 0 | 0 |\n",
    "|YearBuild | 1 | 0 |\n",
    "|CentralAir | 1 | 0 |\n",
    "|OverallQual | 1 | 0 |\n",
    "|Neighborhood | 2 | 1 |\n"
   ]
  },
  {
   "cell_type": "markdown",
   "metadata": {},
   "source": [
    "## II - Test the relationship between varibles and Home Price\n",
    "<br />\n",
    "\n",
    "### Overal Area - Including all neighborhood in the dataset\n",
    "We use seaborn heatmap to graph the correlation between each varibles in the dataset. "
   ]
  },
  {
   "cell_type": "code",
   "execution_count": 120,
   "metadata": {},
   "outputs": [
    {
     "data": {
      "text/plain": [
       "<matplotlib.axes._subplots.AxesSubplot at 0x7fde2bfe9588>"
      ]
     },
     "execution_count": 120,
     "metadata": {},
     "output_type": "execute_result"
    },
    {
     "data": {
      "image/png": "[encoded data removed]",
      "text/plain": [
       "<Figure size 1440x648 with 2 Axes>"
      ]
     },
     "metadata": {
      "needs_background": "light"
     },
     "output_type": "display_data"
    }
   ],
   "source": [
    "from sklearn import preprocessing\n",
    "label_names = ['CentralAir', 'Neighborhood']\n",
    "for x in label_names:\n",
    "    label = preprocessing.LabelEncoder()\n",
    "    data_train[x] = label.fit_transform(data_train[x])\n",
    "cor_maxtrix = data_train.corr()\n",
    "f, ax = plt.subplots(figsize=(20, 9))\n",
    "sns.heatmap(cor_maxtrix, vmax=0.8, square=True, center=0)"
   ]
  },
  {
   "cell_type": "markdown",
   "metadata": {},
   "source": [
    "The above heatmap shows the correlation between each varibles. We look at the SalePrice and its correlation to other varibles. The lighter the color, the higher the correlation is between two factors. The result is very close to our initial identification.\n",
    "<br />\n",
    "\n",
    "|varibles|\n",
    "|--------|\n",
    "|OverallQual|\n",
    "|YearBuilt|\n",
    "|TotalBsmtSF|\n",
    "|GrLiveArea|\n",
    "|FullBath|\n",
    "|TotRmsAbvGrd|\n",
    "|GarageCars|\n",
    "|GarageArea|\n",
    "|1stFlrSF|\n",
    "\n",
    "<br />\n",
    "Let's graph the Correlation matrix view"
   ]
  },
  {
   "cell_type": "code",
   "execution_count": 121,
   "metadata": {},
   "outputs": [
    {
     "data": {
      "text/plain": [
       "Index(['SalePrice', 'OverallQual', 'GrLivArea', 'GarageCars', 'GarageArea',\n",
       "       'TotalBsmtSF'],\n",
       "      dtype='object')"
      ]
     },
     "execution_count": 121,
     "metadata": {},
     "output_type": "execute_result"
    }
   ],
   "source": [
    "c = 6 # top 5 varibles with the largest correlation with SalePrice\n",
    "cols = cor_maxtrix.nlargest(c, 'SalePrice')['SalePrice'].index\n",
    "cols"
   ]
  },
  {
   "cell_type": "code",
   "execution_count": 122,
   "metadata": {},
   "outputs": [
    {
     "data": {
      "image/png": "[encoded data removed]",
      "text/plain": [
       "<Figure size 432x288 with 2 Axes>"
      ]
     },
     "metadata": {},
     "output_type": "display_data"
    }
   ],
   "source": [
    "cm = np.corrcoef(data_train[cols].values.T)\n",
    "sns.set(font_scale=1.25)\n",
    "hm = sns.heatmap(cm, cbar=True, annot=True, square=True, center=0,fmt='.2f', \n",
    "                 annot_kws={'size':10}, yticklabels=cols.values,xticklabels=cols.values)\n",
    "plt.show()"
   ]
  },
  {
   "cell_type": "markdown",
   "metadata": {},
   "source": [
    "In conculsion, the top five varibles that affect the saleprice in the overall neighborhoods are:\n",
    "<br /><br />\n",
    "<li>OverallQual - Overal Quality</li>\n",
    "<li>GrLivArea - Above grade (ground) living area square feet</li>\n",
    "<li>GarageCars - Size of garage in car capacity</li>\n",
    "<li>GarageArea - Size of garage in square feet</li>\n",
    "<li>TotalBsmtSF - Total square feet of basement area</li>"
   ]
  },
  {
   "cell_type": "markdown",
   "metadata": {},
   "source": [
    "### Top Three Neighborhoods - NoRidge, NridgHt, StoneBr\n",
    "<br />\n",
    "Now, we look into the varibes that affect the sale price of homes in the top three neighborhood\n",
    "<br />\n",
    "<li>NoRidge - Northridge</li>\n",
    "<li>NridgHt\t- Northridge Heights</li>\n",
    "<li>StoneBr\t- Stone Brook</li>\n"
   ]
  },
  {
   "cell_type": "code",
   "execution_count": 18,
   "metadata": {},
   "outputs": [
    {
     "data": {
      "text/plain": [
       "array(['NoRidge', 'NridgHt', 'StoneBr'], dtype=object)"
      ]
     },
     "execution_count": 18,
     "metadata": {},
     "output_type": "execute_result"
    }
   ],
   "source": [
    "data_top['Neighborhood'].unique()"
   ]
  },
  {
   "cell_type": "code",
   "execution_count": 19,
   "metadata": {},
   "outputs": [
    {
     "data": {
      "text/plain": [
       "<matplotlib.axes._subplots.AxesSubplot at 0x7fde4eb82a58>"
      ]
     },
     "execution_count": 19,
     "metadata": {},
     "output_type": "execute_result"
    },
    {
     "data": {
      "image/png": "[encoded data removed]",
      "text/plain": [
       "<Figure size 1440x648 with 2 Axes>"
      ]
     },
     "metadata": {},
     "output_type": "display_data"
    }
   ],
   "source": [
    "from sklearn import preprocessing\n",
    "label_names = ['CentralAir', 'Neighborhood']\n",
    "for x in label_names:\n",
    "    label = preprocessing.LabelEncoder()\n",
    "    data_top[x] = label.fit_transform(data_top[x])\n",
    "cor_maxtrix = data_top.corr()\n",
    "f, ax = plt.subplots(figsize=(20, 9))\n",
    "sns.heatmap(cor_maxtrix, vmax=0.8, square=True, center=0)"
   ]
  },
  {
   "cell_type": "code",
   "execution_count": 20,
   "metadata": {},
   "outputs": [
    {
     "data": {
      "text/plain": [
       "Index(['SalePrice', 'GrLivArea', 'OverallQual', 'TotRmsAbvGrd', '1stFlrSF',\n",
       "       'TotalBsmtSF'],\n",
       "      dtype='object')"
      ]
     },
     "execution_count": 20,
     "metadata": {},
     "output_type": "execute_result"
    }
   ],
   "source": [
    "c = 6 # top 5 varibles with the largest correlation with SalePrice\n",
    "cols = cor_maxtrix.nlargest(c, 'SalePrice')['SalePrice'].index\n",
    "cols"
   ]
  },
  {
   "cell_type": "code",
   "execution_count": 21,
   "metadata": {},
   "outputs": [
    {
     "data": {
      "image/png": "[encoded data removed]",
      "text/plain": [
       "<Figure size 432x288 with 2 Axes>"
      ]
     },
     "metadata": {},
     "output_type": "display_data"
    }
   ],
   "source": [
    "cm = np.corrcoef(data_top[cols].values.T)\n",
    "sns.set(font_scale=1.25)\n",
    "hm = sns.heatmap(cm, cbar=True, annot=True, square=True, center=0,fmt='.2f', \n",
    "                 annot_kws={'size':10}, yticklabels=cols.values,xticklabels=cols.values)\n",
    "plt.show()"
   ]
  },
  {
   "cell_type": "markdown",
   "metadata": {},
   "source": [
    "From the Above figure, we can see that the Top five varibles that affect the home prices are:\n",
    "<br />\n",
    "<br />\n",
    "<li>GrLivArea: Above grade (ground) living area square feet</li>\n",
    "<li>OverallQual: Overall Quality</li>\n",
    "<li>TotRmsAbvGrd: Total rooms above grade (does not include bathrooms)</li>\n",
    "<li>1stFlrSF: First Floor square feet</li>\n",
    "<li>TotalBsmtSF: Total square feet of basement area</li>"
   ]
  },
  {
   "cell_type": "markdown",
   "metadata": {},
   "source": [
    "### Bottom Three Neighborhoods - MeadowV, IDOTRR, BrDale\n",
    "<br />\n",
    "Now, we look into the varibes that affect the sale price of homes in the top three neighborhood\n",
    "<br />\n",
    "<br />\n",
    "<li>MeadowV - Northridge</li>\n",
    "<li>IDOTRR\t- Iowa DOT and Rail Road</li>\n",
    "<li>BrDale\t- Briardale</li>\n"
   ]
  },
  {
   "cell_type": "code",
   "execution_count": 22,
   "metadata": {},
   "outputs": [
    {
     "data": {
      "text/plain": [
       "array(['IDOTRR', 'MeadowV', 'BrDale'], dtype=object)"
      ]
     },
     "execution_count": 22,
     "metadata": {},
     "output_type": "execute_result"
    }
   ],
   "source": [
    "data_bot['Neighborhood'].unique()"
   ]
  },
  {
   "cell_type": "code",
   "execution_count": 23,
   "metadata": {},
   "outputs": [
    {
     "data": {
      "text/plain": [
       "<matplotlib.axes._subplots.AxesSubplot at 0x7fde4e8bc208>"
      ]
     },
     "execution_count": 23,
     "metadata": {},
     "output_type": "execute_result"
    },
    {
     "data": {
      "image/png": "[encoded data removed]",
      "text/plain": [
       "<Figure size 1440x648 with 2 Axes>"
      ]
     },
     "metadata": {},
     "output_type": "display_data"
    }
   ],
   "source": [
    "from sklearn import preprocessing\n",
    "label_names = ['CentralAir', 'Neighborhood']\n",
    "for x in label_names:\n",
    "    label = preprocessing.LabelEncoder()\n",
    "    data_bot[x] = label.fit_transform(data_bot[x])\n",
    "cor_maxtrix = data_bot.corr()\n",
    "f, ax = plt.subplots(figsize=(20, 9))\n",
    "sns.heatmap(cor_maxtrix, vmax=0.8, square=True, center=0)"
   ]
  },
  {
   "cell_type": "code",
   "execution_count": 24,
   "metadata": {},
   "outputs": [
    {
     "data": {
      "text/plain": [
       "Index(['SalePrice', 'GrLivArea', 'OverallQual', 'BedroomAbvGr', 'CentralAir',\n",
       "       'Fireplaces'],\n",
       "      dtype='object')"
      ]
     },
     "execution_count": 24,
     "metadata": {},
     "output_type": "execute_result"
    }
   ],
   "source": [
    "c = 6 # top 5 varibles with the largest correlation with SalePrice\n",
    "cols = cor_maxtrix.nlargest(c, 'SalePrice')['SalePrice'].index\n",
    "cols"
   ]
  },
  {
   "cell_type": "code",
   "execution_count": 25,
   "metadata": {},
   "outputs": [
    {
     "data": {
      "image/png": "[encoded data removed]",
      "text/plain": [
       "<Figure size 432x288 with 2 Axes>"
      ]
     },
     "metadata": {},
     "output_type": "display_data"
    }
   ],
   "source": [
    "cm = np.corrcoef(data_bot[cols].values.T)\n",
    "sns.set(font_scale=1.25)\n",
    "hm = sns.heatmap(cm, cbar=True, annot=True, square=True, center=0,fmt='.2f', \n",
    "                 annot_kws={'size':10}, yticklabels=cols.values,xticklabels=cols.values)\n",
    "plt.show()"
   ]
  },
  {
   "cell_type": "markdown",
   "metadata": {},
   "source": [
    "From the Above figure, we can see that the Top five varibles that affect the home prices in the bottom three neighborhood are:\n",
    "<br />\n",
    "<br />\n",
    "<li>GrLivArea: Above grade (ground) living area square feet</li>\n",
    "<li>OverallQual: Overall Quality</li>\n",
    "<li>BedroomAbvGr: Bedroom above Ground</li>\n",
    "<li>CentralAir: Central air conditioning</li>\n",
    "<li>Fireplaces: Number of fireplaces</li>"
   ]
  },
  {
   "cell_type": "markdown",
   "metadata": {},
   "source": [
    "## III - Important Factors on Home Price Perdiction\n",
    "\n",
    "The above three correlation heatmaps indicated that the home prices variy based on different factors. Here we conclude the top five factors for the all neiborhoods, top three neighborhoods, and bottom three neighborhoods\n",
    "<br />\n",
    "<br />\n",
    "\n",
    "| All Neighborhoods | Top Three | Bottom Three |\n",
    "| ----------------- | -------------- | --------- |\n",
    "| OverallQual | GrLivArea | GrLivArea |\n",
    "| GrLivArea | OverallQual | OverallQual |\n",
    "| GarageCars | TotRmsAbvGrd | BedroomAbvGr |\n",
    "| GarageArea | 1stFlrSF | CentralAir |\n",
    "| TotalBsmtSF | TotalBsmtSF | Fireplaces |\n",
    "\n",
    "<br />\n",
    "The above table indicates that Overall Quality (OverallQual) and Above Grade(ground) living area square feet (GrLivArea) are the top two factors influece the home price. after that, depends on the neighborhood, different varibles are considered when comes to the home price. "
   ]
  },
  {
   "cell_type": "markdown",
   "metadata": {},
   "source": [
    "## IV - Additional Analysis\n",
    "Many time when people think about expensive homes, a swimming pool is often a luxurious addition to the home. However, it does not seem to affect our price perdiction. We take an extra look into the data to find out if it does not have much effect on home price\n"
   ]
  },
  {
   "cell_type": "code",
   "execution_count": 26,
   "metadata": {},
   "outputs": [
    {
     "data": {
      "text/plain": [
       "count    1460.000000\n",
       "mean        2.758904\n",
       "std        40.177307\n",
       "min         0.000000\n",
       "25%         0.000000\n",
       "50%         0.000000\n",
       "75%         0.000000\n",
       "max       738.000000\n",
       "Name: PoolArea, dtype: float64"
      ]
     },
     "execution_count": 26,
     "metadata": {},
     "output_type": "execute_result"
    }
   ],
   "source": [
    "data_train['PoolArea'].describe()"
   ]
  },
  {
   "cell_type": "code",
   "execution_count": 27,
   "metadata": {},
   "outputs": [
    {
     "data": {
      "text/plain": [
       "False"
      ]
     },
     "execution_count": 27,
     "metadata": {},
     "output_type": "execute_result"
    }
   ],
   "source": [
    "data_train['PoolArea'].isnull().any()"
   ]
  },
  {
   "cell_type": "code",
   "execution_count": 28,
   "metadata": {},
   "outputs": [],
   "source": [
    "cor_maxtrix = data_top.corr()"
   ]
  },
  {
   "cell_type": "code",
   "execution_count": 29,
   "metadata": {},
   "outputs": [
    {
     "data": {
      "text/plain": [
       "0.3350447184452146"
      ]
     },
     "execution_count": 29,
     "metadata": {},
     "output_type": "execute_result"
    }
   ],
   "source": [
    "cor_maxtrix['SalePrice']['PoolArea']"
   ]
  },
  {
   "cell_type": "markdown",
   "metadata": {},
   "source": [
    "From above, we can see that pool area is included as square footage and if the home does not include a pool, the pool area is reported as 0 sqft.\n",
    "PoolArea has a correlation of 0.334 to SalePrice, which indicates a moderated effect, however, it is not one of the top factors."
   ]
  },
  {
   "cell_type": "markdown",
   "metadata": {},
   "source": [
    "### Conculsion on Varibles\n",
    "\n",
    "The above steps indicates that in perdicting home prices, varibles that affect the home price vary based on neighborhoods. Using a model that uses the same varibles to perdict home price may not work in all neighborhoods. Thus, the following models are built to use neighborhood to determine varibles to use in home price perdiction.\n",
    "<br />\n",
    "<br />\n",
    "A above 0.3  correlation coefficient indicates an at-least-moderate linear relationship between varibles. The model takes in neiborhood as a factor to determine a list of specific varibles to use in home price perdiction."
   ]
  },
  {
   "cell_type": "markdown",
   "metadata": {},
   "source": [
    "## IV - Modeling for Top, Bottom, and Average Areas\n",
    "<br />\n",
    "\n"
   ]
  },
  {
   "cell_type": "code",
   "execution_count": 30,
   "metadata": {},
   "outputs": [],
   "source": [
    "from sklearn import preprocessing\n",
    "from sklearn.ensemble import RandomForestRegressor\n",
    "from sklearn.model_selection import train_test_split"
   ]
  },
  {
   "cell_type": "code",
   "execution_count": 31,
   "metadata": {},
   "outputs": [],
   "source": [
    "# find strong prositive correlations from neighborhood speicified cor_matrix['SalePrice']\n",
    "def find_significant_correlation(cor_maxtrix):\n",
    "    strong_correlation = []\n",
    "\n",
    "    for i in cor_maxtrix.nlargest(10, 'SalePrice')['SalePrice'].index:\n",
    "        if cor_maxtrix['SalePrice'][i] > 0.3 and cor_maxtrix['SalePrice'][i] < 1:\n",
    "            strong_correlation.append([i, cor_maxtrix['SalePrice'][i]])\n",
    "    return strong_correlation"
   ]
  },
  {
   "cell_type": "markdown",
   "metadata": {},
   "source": [
    "### Top Three Neighborhoods Model"
   ]
  },
  {
   "cell_type": "code",
   "execution_count": 32,
   "metadata": {},
   "outputs": [
    {
     "data": {
      "text/plain": [
       "array([0, 1, 2])"
      ]
     },
     "execution_count": 32,
     "metadata": {},
     "output_type": "execute_result"
    }
   ],
   "source": [
    "data_top['Neighborhood'].unique()"
   ]
  },
  {
   "cell_type": "code",
   "execution_count": 33,
   "metadata": {},
   "outputs": [],
   "source": [
    "top_cor_matrix = data_top.corr()\n",
    "cols = find_significant_correlation(top_cor_matrix)"
   ]
  },
  {
   "cell_type": "code",
   "execution_count": 34,
   "metadata": {},
   "outputs": [
    {
     "data": {
      "text/plain": [
       "['GrLivArea',\n",
       " 'OverallQual',\n",
       " 'TotRmsAbvGrd',\n",
       " '1stFlrSF',\n",
       " 'TotalBsmtSF',\n",
       " 'GarageCars',\n",
       " 'LotArea',\n",
       " 'MasVnrArea',\n",
       " 'LotFrontage']"
      ]
     },
     "execution_count": 34,
     "metadata": {},
     "output_type": "execute_result"
    }
   ],
   "source": [
    "top_cols = []\n",
    "for i in cols:\n",
    "    top_cols.append(i[0])\n",
    "top_cols"
   ]
  },
  {
   "cell_type": "code",
   "execution_count": 35,
   "metadata": {},
   "outputs": [
    {
     "data": {
      "text/plain": [
       "GrLivArea        0\n",
       "OverallQual      0\n",
       "TotRmsAbvGrd     0\n",
       "1stFlrSF         0\n",
       "TotalBsmtSF      0\n",
       "GarageCars       0\n",
       "LotArea          0\n",
       "MasVnrArea       1\n",
       "LotFrontage     14\n",
       "dtype: int64"
      ]
     },
     "execution_count": 35,
     "metadata": {},
     "output_type": "execute_result"
    }
   ],
   "source": [
    "data_top[top_cols].isnull().sum()"
   ]
  },
  {
   "cell_type": "markdown",
   "metadata": {},
   "source": [
    "data contains missing data for MasVnrArea and LotFrontage. We need to fix it"
   ]
  },
  {
   "cell_type": "code",
   "execution_count": 36,
   "metadata": {},
   "outputs": [
    {
     "data": {
      "text/plain": [
       "count     142.000000\n",
       "mean      332.147887\n",
       "std       274.770851\n",
       "min         0.000000\n",
       "25%       132.750000\n",
       "50%       291.000000\n",
       "75%       461.000000\n",
       "max      1378.000000\n",
       "Name: MasVnrArea, dtype: float64"
      ]
     },
     "execution_count": 36,
     "metadata": {},
     "output_type": "execute_result"
    }
   ],
   "source": [
    "data_top['MasVnrArea'].describe()"
   ]
  },
  {
   "cell_type": "code",
   "execution_count": 37,
   "metadata": {},
   "outputs": [
    {
     "data": {
      "text/plain": [
       "False"
      ]
     },
     "execution_count": 37,
     "metadata": {},
     "output_type": "execute_result"
    }
   ],
   "source": [
    "# MasVnrArea - Masonry veneer area in square feet. If the data field is empty, we assume it is zero\n",
    "data_top['MasVnrArea'] = data_top['MasVnrArea'].fillna(0)\n",
    "data_top['MasVnrArea'].isnull().any()"
   ]
  },
  {
   "cell_type": "code",
   "execution_count": 38,
   "metadata": {},
   "outputs": [
    {
     "data": {
      "text/plain": [
       "count    129.000000\n",
       "mean      81.465116\n",
       "std       26.285109\n",
       "min       34.000000\n",
       "25%       62.000000\n",
       "50%       85.000000\n",
       "75%       98.000000\n",
       "max      174.000000\n",
       "Name: LotFrontage, dtype: float64"
      ]
     },
     "execution_count": 38,
     "metadata": {},
     "output_type": "execute_result"
    }
   ],
   "source": [
    "data_top['LotFrontage'].describe()"
   ]
  },
  {
   "cell_type": "code",
   "execution_count": 39,
   "metadata": {},
   "outputs": [],
   "source": [
    "# LotFrontage - Linear feet of street connected to property. If the data field is empty, we assume it is zero\n",
    "data_top['LotFrontage'] = data_top['LotFrontage'].fillna(0)"
   ]
  },
  {
   "cell_type": "code",
   "execution_count": 40,
   "metadata": {},
   "outputs": [
    {
     "data": {
      "text/plain": [
       "42571.6196875"
      ]
     },
     "execution_count": 40,
     "metadata": {},
     "output_type": "execute_result"
    }
   ],
   "source": [
    "x_t = data_top[top_cols].values\n",
    "y_t = data_top['SalePrice'].values\n",
    "X_top,X_top_test, y_top, y_top_test = train_test_split(x_t, y_t, test_size=0.33, random_state=42)\n",
    "\n",
    "clf_top = RandomForestRegressor(n_estimators=400)\n",
    "clf_top.fit(X_top, y_top)\n",
    "y_top_pred=clf_top.predict(X_top_test)\n",
    "sum(abs(y_top_pred - y_top_test))/len(y_top_pred)"
   ]
  },
  {
   "cell_type": "markdown",
   "metadata": {},
   "source": [
    "### Bottom Three Neighborhood Model"
   ]
  },
  {
   "cell_type": "code",
   "execution_count": 41,
   "metadata": {},
   "outputs": [
    {
     "data": {
      "text/plain": [
       "array([1, 2, 0])"
      ]
     },
     "execution_count": 41,
     "metadata": {},
     "output_type": "execute_result"
    }
   ],
   "source": [
    "data_bot['Neighborhood'].unique()"
   ]
  },
  {
   "cell_type": "code",
   "execution_count": 42,
   "metadata": {},
   "outputs": [
    {
     "data": {
      "text/plain": [
       "['GrLivArea',\n",
       " 'OverallQual',\n",
       " 'BedroomAbvGr',\n",
       " 'CentralAir',\n",
       " 'Fireplaces',\n",
       " 'TotRmsAbvGrd',\n",
       " '1stFlrSF',\n",
       " 'TotalBsmtSF',\n",
       " 'OverallCond']"
      ]
     },
     "execution_count": 42,
     "metadata": {},
     "output_type": "execute_result"
    }
   ],
   "source": [
    "bot_cor_matrix = data_bot.corr()\n",
    "cols = find_significant_correlation(bot_cor_matrix)\n",
    "bot_cols = []\n",
    "for i in cols:\n",
    "    bot_cols.append(i[0])\n",
    "bot_cols"
   ]
  },
  {
   "cell_type": "code",
   "execution_count": 43,
   "metadata": {},
   "outputs": [
    {
     "data": {
      "text/plain": [
       "GrLivArea       0\n",
       "OverallQual     0\n",
       "BedroomAbvGr    0\n",
       "CentralAir      0\n",
       "Fireplaces      0\n",
       "TotRmsAbvGrd    0\n",
       "1stFlrSF        0\n",
       "TotalBsmtSF     0\n",
       "OverallCond     0\n",
       "dtype: int64"
      ]
     },
     "execution_count": 43,
     "metadata": {},
     "output_type": "execute_result"
    }
   ],
   "source": [
    "data_bot[bot_cols].isnull().sum()"
   ]
  },
  {
   "cell_type": "code",
   "execution_count": 44,
   "metadata": {},
   "outputs": [
    {
     "data": {
      "text/plain": [
       "15689.458020833334"
      ]
     },
     "execution_count": 44,
     "metadata": {},
     "output_type": "execute_result"
    }
   ],
   "source": [
    "x_b = data_bot[bot_cols].values\n",
    "y_b = data_bot['SalePrice'].values\n",
    "X_bot,X_bot_test, y_bot, y_bot_test = train_test_split(x_b, y_b, test_size=0.33, random_state=42)\n",
    "\n",
    "clf_bot = RandomForestRegressor(n_estimators=400)\n",
    "clf_bot.fit(X_bot, y_bot)\n",
    "y_bot_pred=clf_bot.predict(X_bot_test)\n",
    "sum(abs(y_bot_pred - y_bot_test))/len(y_bot_pred)"
   ]
  },
  {
   "cell_type": "markdown",
   "metadata": {},
   "source": [
    "### Average Neighborhoods that are not top three or bottom three"
   ]
  },
  {
   "cell_type": "code",
   "execution_count": 45,
   "metadata": {},
   "outputs": [],
   "source": [
    "data_train = pd.read_csv(\"https://raw.githubusercontent.com/scottsun17/HomePricePrediction/master/Data/train.csv\")\n",
    "data_average = data_train[(data_train.Neighborhood != 'NoRidge') & (data_train.Neighborhood != 'NridgHt') & (data_train.Neighborhood != 'StoneBr') & \n",
    "                         (data_train.Neighborhood != 'MeadowV') & (data_train.Neighborhood != 'IDOTRR') & (data_train.Neighborhood != 'BrDale')]"
   ]
  },
  {
   "cell_type": "code",
   "execution_count": 46,
   "metadata": {},
   "outputs": [
    {
     "data": {
      "text/plain": [
       "array(['CollgCr', 'Veenker', 'Crawfor', 'Mitchel', 'Somerst', 'NWAmes',\n",
       "       'OldTown', 'BrkSide', 'Sawyer', 'NAmes', 'SawyerW', 'Edwards',\n",
       "       'Timber', 'Gilbert', 'ClearCr', 'NPkVill', 'Blmngtn', 'SWISU',\n",
       "       'Blueste'], dtype=object)"
      ]
     },
     "execution_count": 46,
     "metadata": {},
     "output_type": "execute_result"
    }
   ],
   "source": [
    "data_average['Neighborhood'].unique()"
   ]
  },
  {
   "cell_type": "code",
   "execution_count": 47,
   "metadata": {},
   "outputs": [
    {
     "data": {
      "text/plain": [
       "['OverallQual',\n",
       " 'GrLivArea',\n",
       " 'GarageCars',\n",
       " 'GarageArea',\n",
       " 'FullBath',\n",
       " 'TotalBsmtSF',\n",
       " 'YearRemodAdd',\n",
       " '1stFlrSF',\n",
       " 'YearBuilt']"
      ]
     },
     "execution_count": 47,
     "metadata": {},
     "output_type": "execute_result"
    }
   ],
   "source": [
    "avg_cor_matrix = data_average.corr()\n",
    "cols = find_significant_correlation(avg_cor_matrix)\n",
    "avg_cols = []\n",
    "for i in cols:\n",
    "    avg_cols.append(i[0])\n",
    "avg_cols"
   ]
  },
  {
   "cell_type": "code",
   "execution_count": 48,
   "metadata": {},
   "outputs": [
    {
     "data": {
      "text/plain": [
       "OverallQual     0\n",
       "GrLivArea       0\n",
       "GarageCars      0\n",
       "GarageArea      0\n",
       "FullBath        0\n",
       "TotalBsmtSF     0\n",
       "YearRemodAdd    0\n",
       "1stFlrSF        0\n",
       "YearBuilt       0\n",
       "dtype: int64"
      ]
     },
     "execution_count": 48,
     "metadata": {},
     "output_type": "execute_result"
    }
   ],
   "source": [
    "data_average[avg_cols].isnull().sum()"
   ]
  },
  {
   "cell_type": "code",
   "execution_count": 49,
   "metadata": {},
   "outputs": [
    {
     "data": {
      "text/plain": [
       "19451.626868358962"
      ]
     },
     "execution_count": 49,
     "metadata": {},
     "output_type": "execute_result"
    }
   ],
   "source": [
    "x_a = data_average[avg_cols].values\n",
    "y_a = data_average['SalePrice'].values\n",
    "X_avg,X_avg_test, y_avg, y_avg_test = train_test_split(x_a, y_a, test_size=0.33, random_state=42)\n",
    "\n",
    "clf_avg = RandomForestRegressor(n_estimators=400)\n",
    "clf_avg.fit(X_avg, y_avg)\n",
    "y_avg_pred=clf_avg.predict(X_avg_test)\n",
    "sum(abs(y_avg_pred - y_avg_test))/len(y_avg_pred)"
   ]
  },
  {
   "cell_type": "markdown",
   "metadata": {},
   "source": [
    "## V - Predicting with Testing Data"
   ]
  },
  {
   "cell_type": "code",
   "execution_count": 50,
   "metadata": {},
   "outputs": [],
   "source": [
    "rfr_top = clf_top\n",
    "rfr_bot = clf_bot\n",
    "rfr_avg = clf_avg"
   ]
  },
  {
   "cell_type": "code",
   "execution_count": 51,
   "metadata": {},
   "outputs": [],
   "source": [
    "data_test = pd.read_csv('https://raw.githubusercontent.com/scottsun17/HomePricePrediction/master/Data/test.csv')"
   ]
  },
  {
   "cell_type": "code",
   "execution_count": 52,
   "metadata": {},
   "outputs": [
    {
     "data": {
      "text/plain": [
       "0"
      ]
     },
     "execution_count": 52,
     "metadata": {},
     "output_type": "execute_result"
    }
   ],
   "source": [
    "data_test['Neighborhood'].isnull().sum()"
   ]
  },
  {
   "cell_type": "code",
   "execution_count": 53,
   "metadata": {},
   "outputs": [],
   "source": [
    "data_test_top = data_test[(data_test.Neighborhood == 'NoRidge') | (data_test.Neighborhood == 'NridgHt') | (data_test.Neighborhood == 'StoneBr')]\n",
    "data_test_bot = data_test[(data_test.Neighborhood == 'MeadowV') | (data_test.Neighborhood == 'IDOTRR') | (data_test.Neighborhood == 'BrDale')]\n",
    "data_test_avg = data_test[(data_test.Neighborhood != 'NoRidge') & (data_test.Neighborhood != 'NridgHt') & (data_test.Neighborhood != 'StoneBr') & \n",
    "                         (data_test.Neighborhood != 'MeadowV') & (data_test.Neighborhood != 'IDOTRR') & (data_test.Neighborhood != 'BrDale')]"
   ]
  },
  {
   "cell_type": "code",
   "execution_count": 54,
   "metadata": {},
   "outputs": [
    {
     "data": {
      "text/plain": [
       "array(['StoneBr', 'NridgHt', 'NoRidge'], dtype=object)"
      ]
     },
     "execution_count": 54,
     "metadata": {},
     "output_type": "execute_result"
    }
   ],
   "source": [
    "data_test_top['Neighborhood'].unique()"
   ]
  },
  {
   "cell_type": "code",
   "execution_count": 55,
   "metadata": {},
   "outputs": [
    {
     "data": {
      "text/plain": [
       "array(['BrDale', 'IDOTRR', 'MeadowV'], dtype=object)"
      ]
     },
     "execution_count": 55,
     "metadata": {},
     "output_type": "execute_result"
    }
   ],
   "source": [
    "data_test_bot['Neighborhood'].unique()"
   ]
  },
  {
   "cell_type": "code",
   "execution_count": 56,
   "metadata": {},
   "outputs": [
    {
     "data": {
      "text/plain": [
       "array(['NAmes', 'Gilbert', 'NPkVill', 'Blmngtn', 'Somerst', 'SawyerW',\n",
       "       'Sawyer', 'NWAmes', 'OldTown', 'BrkSide', 'ClearCr', 'SWISU',\n",
       "       'Edwards', 'CollgCr', 'Crawfor', 'Blueste', 'Mitchel', 'Timber',\n",
       "       'Veenker'], dtype=object)"
      ]
     },
     "execution_count": 56,
     "metadata": {},
     "output_type": "execute_result"
    }
   ],
   "source": [
    "data_test_avg['Neighborhood'].unique()"
   ]
  },
  {
   "cell_type": "markdown",
   "metadata": {},
   "source": [
    "### Test for Top Neighborhoods"
   ]
  },
  {
   "cell_type": "code",
   "execution_count": 57,
   "metadata": {},
   "outputs": [
    {
     "data": {
      "text/plain": [
       "GrLivArea        0\n",
       "OverallQual      0\n",
       "TotRmsAbvGrd     0\n",
       "1stFlrSF         0\n",
       "TotalBsmtSF      0\n",
       "GarageCars       0\n",
       "LotArea          0\n",
       "MasVnrArea       1\n",
       "LotFrontage     11\n",
       "dtype: int64"
      ]
     },
     "execution_count": 57,
     "metadata": {},
     "output_type": "execute_result"
    }
   ],
   "source": [
    "data_test_top[top_cols].isnull().sum()"
   ]
  },
  {
   "cell_type": "markdown",
   "metadata": {},
   "source": [
    "MasVnrArea and LotFrontage contain null value. Replace null fields with zero."
   ]
  },
  {
   "cell_type": "code",
   "execution_count": 58,
   "metadata": {},
   "outputs": [
    {
     "data": {
      "text/plain": [
       "GrLivArea       0\n",
       "OverallQual     0\n",
       "TotRmsAbvGrd    0\n",
       "1stFlrSF        0\n",
       "TotalBsmtSF     0\n",
       "GarageCars      0\n",
       "LotArea         0\n",
       "MasVnrArea      0\n",
       "LotFrontage     0\n",
       "dtype: int64"
      ]
     },
     "execution_count": 58,
     "metadata": {},
     "output_type": "execute_result"
    }
   ],
   "source": [
    "data_test_top['LotFrontage'] = data_test_top['LotFrontage'].fillna(0.0)\n",
    "data_test_top['MasVnrArea'] = data_test_top['MasVnrArea'].fillna(0.0)\n",
    "data_test_top[top_cols].isnull().sum() # no more null values"
   ]
  },
  {
   "cell_type": "code",
   "execution_count": 59,
   "metadata": {},
   "outputs": [
    {
     "data": {
      "text/html": [
       "<div>\n",
       "<style scoped>\n",
       "    .dataframe tbody tr th:only-of-type {\n",
       "        vertical-align: middle;\n",
       "    }\n",
       "\n",
       "    .dataframe tbody tr th {\n",
       "        vertical-align: top;\n",
       "    }\n",
       "\n",
       "    .dataframe thead th {\n",
       "        text-align: right;\n",
       "    }\n",
       "</style>\n",
       "<table border=\"1\" class=\"dataframe\">\n",
       "  <thead>\n",
       "    <tr style=\"text-align: right;\">\n",
       "      <th></th>\n",
       "      <th>GrLivArea</th>\n",
       "      <th>OverallQual</th>\n",
       "      <th>TotRmsAbvGrd</th>\n",
       "      <th>1stFlrSF</th>\n",
       "      <th>TotalBsmtSF</th>\n",
       "      <th>GarageCars</th>\n",
       "      <th>LotArea</th>\n",
       "      <th>MasVnrArea</th>\n",
       "      <th>LotFrontage</th>\n",
       "    </tr>\n",
       "  </thead>\n",
       "  <tbody>\n",
       "    <tr>\n",
       "      <th>0</th>\n",
       "      <td>1280</td>\n",
       "      <td>8</td>\n",
       "      <td>5</td>\n",
       "      <td>1280</td>\n",
       "      <td>1280.0</td>\n",
       "      <td>2.0</td>\n",
       "      <td>5005</td>\n",
       "      <td>0.0</td>\n",
       "      <td>43.0</td>\n",
       "    </tr>\n",
       "    <tr>\n",
       "      <th>1</th>\n",
       "      <td>2334</td>\n",
       "      <td>9</td>\n",
       "      <td>10</td>\n",
       "      <td>1627</td>\n",
       "      <td>1590.0</td>\n",
       "      <td>3.0</td>\n",
       "      <td>12858</td>\n",
       "      <td>162.0</td>\n",
       "      <td>102.0</td>\n",
       "    </tr>\n",
       "    <tr>\n",
       "      <th>2</th>\n",
       "      <td>1544</td>\n",
       "      <td>8</td>\n",
       "      <td>7</td>\n",
       "      <td>1544</td>\n",
       "      <td>1544.0</td>\n",
       "      <td>3.0</td>\n",
       "      <td>12883</td>\n",
       "      <td>256.0</td>\n",
       "      <td>94.0</td>\n",
       "    </tr>\n",
       "    <tr>\n",
       "      <th>3</th>\n",
       "      <td>1698</td>\n",
       "      <td>9</td>\n",
       "      <td>7</td>\n",
       "      <td>1698</td>\n",
       "      <td>1698.0</td>\n",
       "      <td>3.0</td>\n",
       "      <td>11520</td>\n",
       "      <td>615.0</td>\n",
       "      <td>90.0</td>\n",
       "    </tr>\n",
       "    <tr>\n",
       "      <th>4</th>\n",
       "      <td>1822</td>\n",
       "      <td>8</td>\n",
       "      <td>8</td>\n",
       "      <td>1822</td>\n",
       "      <td>1822.0</td>\n",
       "      <td>3.0</td>\n",
       "      <td>14122</td>\n",
       "      <td>240.0</td>\n",
       "      <td>79.0</td>\n",
       "    </tr>\n",
       "  </tbody>\n",
       "</table>\n",
       "</div>"
      ],
      "text/plain": [
       "   GrLivArea  OverallQual  TotRmsAbvGrd  1stFlrSF  TotalBsmtSF  GarageCars  \\\n",
       "0       1280            8             5      1280       1280.0         2.0   \n",
       "1       2334            9            10      1627       1590.0         3.0   \n",
       "2       1544            8             7      1544       1544.0         3.0   \n",
       "3       1698            9             7      1698       1698.0         3.0   \n",
       "4       1822            8             8      1822       1822.0         3.0   \n",
       "\n",
       "   LotArea  MasVnrArea  LotFrontage  \n",
       "0     5005         0.0         43.0  \n",
       "1    12858       162.0        102.0  \n",
       "2    12883       256.0         94.0  \n",
       "3    11520       615.0         90.0  \n",
       "4    14122       240.0         79.0  "
      ]
     },
     "execution_count": 59,
     "metadata": {},
     "output_type": "execute_result"
    }
   ],
   "source": [
    "data_test_top_x = pd.concat([data_test_top[top_cols]], axis=1)\n",
    "data_test_top_x = data_test_top_x.reset_index(drop=True)\n",
    "data_test_top_x.head()"
   ]
  },
  {
   "cell_type": "code",
   "execution_count": 60,
   "metadata": {},
   "outputs": [
    {
     "name": "stdout",
     "output_type": "stream",
     "text": [
      "(145,)\n"
     ]
    }
   ],
   "source": [
    "x_test_top = data_test_top_x.values\n",
    "y_test_pred_top = rfr_top.predict(x_test_top)\n",
    "print(y_test_pred_top.shape)"
   ]
  },
  {
   "cell_type": "code",
   "execution_count": 61,
   "metadata": {},
   "outputs": [
    {
     "name": "stdout",
     "output_type": "stream",
     "text": [
      "(145, 9)\n"
     ]
    }
   ],
   "source": [
    "print(x_test_top.shape)"
   ]
  },
  {
   "cell_type": "code",
   "execution_count": 62,
   "metadata": {},
   "outputs": [],
   "source": [
    "top_prediction = pd.DataFrame(y_test_pred_top, columns=['SalePrice'])\n",
    "top_id = data_test_top['Id'].transpose().reset_index(drop=True).transpose()\n",
    "top_result = pd.concat([top_id, top_prediction,data_test_top_x], axis=1)"
   ]
  },
  {
   "cell_type": "code",
   "execution_count": 63,
   "metadata": {},
   "outputs": [
    {
     "data": {
      "text/html": [
       "<div>\n",
       "<style scoped>\n",
       "    .dataframe tbody tr th:only-of-type {\n",
       "        vertical-align: middle;\n",
       "    }\n",
       "\n",
       "    .dataframe tbody tr th {\n",
       "        vertical-align: top;\n",
       "    }\n",
       "\n",
       "    .dataframe thead th {\n",
       "        text-align: right;\n",
       "    }\n",
       "</style>\n",
       "<table border=\"1\" class=\"dataframe\">\n",
       "  <thead>\n",
       "    <tr style=\"text-align: right;\">\n",
       "      <th></th>\n",
       "      <th>Id</th>\n",
       "      <th>SalePrice</th>\n",
       "      <th>GrLivArea</th>\n",
       "      <th>OverallQual</th>\n",
       "      <th>TotRmsAbvGrd</th>\n",
       "      <th>1stFlrSF</th>\n",
       "      <th>TotalBsmtSF</th>\n",
       "      <th>GarageCars</th>\n",
       "      <th>LotArea</th>\n",
       "      <th>MasVnrArea</th>\n",
       "      <th>LotFrontage</th>\n",
       "    </tr>\n",
       "  </thead>\n",
       "  <tbody>\n",
       "    <tr>\n",
       "      <th>0</th>\n",
       "      <td>1465</td>\n",
       "      <td>200440.8750</td>\n",
       "      <td>1280</td>\n",
       "      <td>8</td>\n",
       "      <td>5</td>\n",
       "      <td>1280</td>\n",
       "      <td>1280.0</td>\n",
       "      <td>2.0</td>\n",
       "      <td>5005</td>\n",
       "      <td>0.0</td>\n",
       "      <td>43.0</td>\n",
       "    </tr>\n",
       "    <tr>\n",
       "      <th>1</th>\n",
       "      <td>1476</td>\n",
       "      <td>338061.9100</td>\n",
       "      <td>2334</td>\n",
       "      <td>9</td>\n",
       "      <td>10</td>\n",
       "      <td>1627</td>\n",
       "      <td>1590.0</td>\n",
       "      <td>3.0</td>\n",
       "      <td>12858</td>\n",
       "      <td>162.0</td>\n",
       "      <td>102.0</td>\n",
       "    </tr>\n",
       "    <tr>\n",
       "      <th>2</th>\n",
       "      <td>1477</td>\n",
       "      <td>281852.2725</td>\n",
       "      <td>1544</td>\n",
       "      <td>8</td>\n",
       "      <td>7</td>\n",
       "      <td>1544</td>\n",
       "      <td>1544.0</td>\n",
       "      <td>3.0</td>\n",
       "      <td>12883</td>\n",
       "      <td>256.0</td>\n",
       "      <td>94.0</td>\n",
       "    </tr>\n",
       "    <tr>\n",
       "      <th>3</th>\n",
       "      <td>1478</td>\n",
       "      <td>321859.8875</td>\n",
       "      <td>1698</td>\n",
       "      <td>9</td>\n",
       "      <td>7</td>\n",
       "      <td>1698</td>\n",
       "      <td>1698.0</td>\n",
       "      <td>3.0</td>\n",
       "      <td>11520</td>\n",
       "      <td>615.0</td>\n",
       "      <td>90.0</td>\n",
       "    </tr>\n",
       "    <tr>\n",
       "      <th>4</th>\n",
       "      <td>1479</td>\n",
       "      <td>315910.8975</td>\n",
       "      <td>1822</td>\n",
       "      <td>8</td>\n",
       "      <td>8</td>\n",
       "      <td>1822</td>\n",
       "      <td>1822.0</td>\n",
       "      <td>3.0</td>\n",
       "      <td>14122</td>\n",
       "      <td>240.0</td>\n",
       "      <td>79.0</td>\n",
       "    </tr>\n",
       "  </tbody>\n",
       "</table>\n",
       "</div>"
      ],
      "text/plain": [
       "     Id    SalePrice  GrLivArea  OverallQual  TotRmsAbvGrd  1stFlrSF  \\\n",
       "0  1465  200440.8750       1280            8             5      1280   \n",
       "1  1476  338061.9100       2334            9            10      1627   \n",
       "2  1477  281852.2725       1544            8             7      1544   \n",
       "3  1478  321859.8875       1698            9             7      1698   \n",
       "4  1479  315910.8975       1822            8             8      1822   \n",
       "\n",
       "   TotalBsmtSF  GarageCars  LotArea  MasVnrArea  LotFrontage  \n",
       "0       1280.0         2.0     5005         0.0         43.0  \n",
       "1       1590.0         3.0    12858       162.0        102.0  \n",
       "2       1544.0         3.0    12883       256.0         94.0  \n",
       "3       1698.0         3.0    11520       615.0         90.0  \n",
       "4       1822.0         3.0    14122       240.0         79.0  "
      ]
     },
     "execution_count": 63,
     "metadata": {},
     "output_type": "execute_result"
    }
   ],
   "source": [
    "top_result.head()"
   ]
  },
  {
   "cell_type": "markdown",
   "metadata": {},
   "source": [
    "### Test for Bottom Neighborhoods"
   ]
  },
  {
   "cell_type": "code",
   "execution_count": 64,
   "metadata": {},
   "outputs": [
    {
     "data": {
      "text/plain": [
       "GrLivArea       0\n",
       "OverallQual     0\n",
       "BedroomAbvGr    0\n",
       "CentralAir      0\n",
       "Fireplaces      0\n",
       "TotRmsAbvGrd    0\n",
       "1stFlrSF        0\n",
       "TotalBsmtSF     0\n",
       "OverallCond     0\n",
       "dtype: int64"
      ]
     },
     "execution_count": 64,
     "metadata": {},
     "output_type": "execute_result"
    }
   ],
   "source": [
    "data_test_bot[bot_cols].isnull().sum()"
   ]
  },
  {
   "cell_type": "code",
   "execution_count": 65,
   "metadata": {},
   "outputs": [
    {
     "data": {
      "text/html": [
       "<div>\n",
       "<style scoped>\n",
       "    .dataframe tbody tr th:only-of-type {\n",
       "        vertical-align: middle;\n",
       "    }\n",
       "\n",
       "    .dataframe tbody tr th {\n",
       "        vertical-align: top;\n",
       "    }\n",
       "\n",
       "    .dataframe thead th {\n",
       "        text-align: right;\n",
       "    }\n",
       "</style>\n",
       "<table border=\"1\" class=\"dataframe\">\n",
       "  <thead>\n",
       "    <tr style=\"text-align: right;\">\n",
       "      <th></th>\n",
       "      <th>GrLivArea</th>\n",
       "      <th>OverallQual</th>\n",
       "      <th>BedroomAbvGr</th>\n",
       "      <th>CentralAir</th>\n",
       "      <th>Fireplaces</th>\n",
       "      <th>TotRmsAbvGrd</th>\n",
       "      <th>1stFlrSF</th>\n",
       "      <th>TotalBsmtSF</th>\n",
       "      <th>OverallCond</th>\n",
       "    </tr>\n",
       "  </thead>\n",
       "  <tbody>\n",
       "    <tr>\n",
       "      <th>0</th>\n",
       "      <td>987</td>\n",
       "      <td>6</td>\n",
       "      <td>2</td>\n",
       "      <td>Y</td>\n",
       "      <td>0</td>\n",
       "      <td>5</td>\n",
       "      <td>483</td>\n",
       "      <td>483.0</td>\n",
       "      <td>5</td>\n",
       "    </tr>\n",
       "    <tr>\n",
       "      <th>1</th>\n",
       "      <td>1092</td>\n",
       "      <td>5</td>\n",
       "      <td>3</td>\n",
       "      <td>Y</td>\n",
       "      <td>0</td>\n",
       "      <td>6</td>\n",
       "      <td>525</td>\n",
       "      <td>525.0</td>\n",
       "      <td>5</td>\n",
       "    </tr>\n",
       "    <tr>\n",
       "      <th>2</th>\n",
       "      <td>540</td>\n",
       "      <td>2</td>\n",
       "      <td>1</td>\n",
       "      <td>Y</td>\n",
       "      <td>0</td>\n",
       "      <td>4</td>\n",
       "      <td>540</td>\n",
       "      <td>480.0</td>\n",
       "      <td>5</td>\n",
       "    </tr>\n",
       "    <tr>\n",
       "      <th>3</th>\n",
       "      <td>1107</td>\n",
       "      <td>6</td>\n",
       "      <td>2</td>\n",
       "      <td>Y</td>\n",
       "      <td>0</td>\n",
       "      <td>5</td>\n",
       "      <td>727</td>\n",
       "      <td>629.0</td>\n",
       "      <td>5</td>\n",
       "    </tr>\n",
       "    <tr>\n",
       "      <th>4</th>\n",
       "      <td>952</td>\n",
       "      <td>4</td>\n",
       "      <td>3</td>\n",
       "      <td>Y</td>\n",
       "      <td>0</td>\n",
       "      <td>5</td>\n",
       "      <td>952</td>\n",
       "      <td>756.0</td>\n",
       "      <td>7</td>\n",
       "    </tr>\n",
       "  </tbody>\n",
       "</table>\n",
       "</div>"
      ],
      "text/plain": [
       "   GrLivArea  OverallQual  BedroomAbvGr CentralAir  Fireplaces  TotRmsAbvGrd  \\\n",
       "0        987            6             2          Y           0             5   \n",
       "1       1092            5             3          Y           0             6   \n",
       "2        540            2             1          Y           0             4   \n",
       "3       1107            6             2          Y           0             5   \n",
       "4        952            4             3          Y           0             5   \n",
       "\n",
       "   1stFlrSF  TotalBsmtSF  OverallCond  \n",
       "0       483        483.0            5  \n",
       "1       525        525.0            5  \n",
       "2       540        480.0            5  \n",
       "3       727        629.0            5  \n",
       "4       952        756.0            7  "
      ]
     },
     "execution_count": 65,
     "metadata": {},
     "output_type": "execute_result"
    }
   ],
   "source": [
    "data_test_bot_x = pd.concat([data_test_bot[bot_cols]], axis=1)\n",
    "data_test_bot_x = data_test_bot_x.reset_index(drop=True)\n",
    "data_test_bot_x.head()"
   ]
  },
  {
   "cell_type": "code",
   "execution_count": 66,
   "metadata": {},
   "outputs": [
    {
     "data": {
      "text/html": [
       "<div>\n",
       "<style scoped>\n",
       "    .dataframe tbody tr th:only-of-type {\n",
       "        vertical-align: middle;\n",
       "    }\n",
       "\n",
       "    .dataframe tbody tr th {\n",
       "        vertical-align: top;\n",
       "    }\n",
       "\n",
       "    .dataframe thead th {\n",
       "        text-align: right;\n",
       "    }\n",
       "</style>\n",
       "<table border=\"1\" class=\"dataframe\">\n",
       "  <thead>\n",
       "    <tr style=\"text-align: right;\">\n",
       "      <th></th>\n",
       "      <th>GrLivArea</th>\n",
       "      <th>OverallQual</th>\n",
       "      <th>BedroomAbvGr</th>\n",
       "      <th>CentralAir</th>\n",
       "      <th>Fireplaces</th>\n",
       "      <th>TotRmsAbvGrd</th>\n",
       "      <th>1stFlrSF</th>\n",
       "      <th>TotalBsmtSF</th>\n",
       "      <th>OverallCond</th>\n",
       "    </tr>\n",
       "  </thead>\n",
       "  <tbody>\n",
       "    <tr>\n",
       "      <th>0</th>\n",
       "      <td>987</td>\n",
       "      <td>6</td>\n",
       "      <td>2</td>\n",
       "      <td>1</td>\n",
       "      <td>0</td>\n",
       "      <td>5</td>\n",
       "      <td>483</td>\n",
       "      <td>483.0</td>\n",
       "      <td>5</td>\n",
       "    </tr>\n",
       "    <tr>\n",
       "      <th>1</th>\n",
       "      <td>1092</td>\n",
       "      <td>5</td>\n",
       "      <td>3</td>\n",
       "      <td>1</td>\n",
       "      <td>0</td>\n",
       "      <td>6</td>\n",
       "      <td>525</td>\n",
       "      <td>525.0</td>\n",
       "      <td>5</td>\n",
       "    </tr>\n",
       "    <tr>\n",
       "      <th>2</th>\n",
       "      <td>540</td>\n",
       "      <td>2</td>\n",
       "      <td>1</td>\n",
       "      <td>1</td>\n",
       "      <td>0</td>\n",
       "      <td>4</td>\n",
       "      <td>540</td>\n",
       "      <td>480.0</td>\n",
       "      <td>5</td>\n",
       "    </tr>\n",
       "    <tr>\n",
       "      <th>3</th>\n",
       "      <td>1107</td>\n",
       "      <td>6</td>\n",
       "      <td>2</td>\n",
       "      <td>1</td>\n",
       "      <td>0</td>\n",
       "      <td>5</td>\n",
       "      <td>727</td>\n",
       "      <td>629.0</td>\n",
       "      <td>5</td>\n",
       "    </tr>\n",
       "    <tr>\n",
       "      <th>4</th>\n",
       "      <td>952</td>\n",
       "      <td>4</td>\n",
       "      <td>3</td>\n",
       "      <td>1</td>\n",
       "      <td>0</td>\n",
       "      <td>5</td>\n",
       "      <td>952</td>\n",
       "      <td>756.0</td>\n",
       "      <td>7</td>\n",
       "    </tr>\n",
       "  </tbody>\n",
       "</table>\n",
       "</div>"
      ],
      "text/plain": [
       "   GrLivArea  OverallQual  BedroomAbvGr  CentralAir  Fireplaces  TotRmsAbvGrd  \\\n",
       "0        987            6             2           1           0             5   \n",
       "1       1092            5             3           1           0             6   \n",
       "2        540            2             1           1           0             4   \n",
       "3       1107            6             2           1           0             5   \n",
       "4        952            4             3           1           0             5   \n",
       "\n",
       "   1stFlrSF  TotalBsmtSF  OverallCond  \n",
       "0       483        483.0            5  \n",
       "1       525        525.0            5  \n",
       "2       540        480.0            5  \n",
       "3       727        629.0            5  \n",
       "4       952        756.0            7  "
      ]
     },
     "execution_count": 66,
     "metadata": {},
     "output_type": "execute_result"
    }
   ],
   "source": [
    "# Replace CentralAir with numeric data\n",
    "label = preprocessing.LabelEncoder()\n",
    "data_test_bot_x['CentralAir'] = label.fit_transform(data_test_bot_x['CentralAir'])\n",
    "\n",
    "data_test_bot_x.head()"
   ]
  },
  {
   "cell_type": "code",
   "execution_count": 67,
   "metadata": {},
   "outputs": [
    {
     "name": "stdout",
     "output_type": "stream",
     "text": [
      "(90,)\n"
     ]
    }
   ],
   "source": [
    "x_test_bot = data_test_bot_x.values\n",
    "y_test_pred_bot = rfr_bot.predict(x_test_bot)\n",
    "print(y_test_pred_bot.shape)"
   ]
  },
  {
   "cell_type": "code",
   "execution_count": 68,
   "metadata": {},
   "outputs": [
    {
     "name": "stdout",
     "output_type": "stream",
     "text": [
      "(90, 9)\n"
     ]
    }
   ],
   "source": [
    "print(x_test_bot.shape)"
   ]
  },
  {
   "cell_type": "code",
   "execution_count": 69,
   "metadata": {},
   "outputs": [],
   "source": [
    "bot_prediction = pd.DataFrame(y_test_pred_bot, columns=['SalePrice'])\n",
    "bot_id = data_test_bot['Id'].transpose().reset_index(drop=True).transpose()\n",
    "bot_result = pd.concat([bot_id, bot_prediction,data_test_bot_x], axis=1)"
   ]
  },
  {
   "cell_type": "code",
   "execution_count": 70,
   "metadata": {},
   "outputs": [
    {
     "data": {
      "text/html": [
       "<div>\n",
       "<style scoped>\n",
       "    .dataframe tbody tr th:only-of-type {\n",
       "        vertical-align: middle;\n",
       "    }\n",
       "\n",
       "    .dataframe tbody tr th {\n",
       "        vertical-align: top;\n",
       "    }\n",
       "\n",
       "    .dataframe thead th {\n",
       "        text-align: right;\n",
       "    }\n",
       "</style>\n",
       "<table border=\"1\" class=\"dataframe\">\n",
       "  <thead>\n",
       "    <tr style=\"text-align: right;\">\n",
       "      <th></th>\n",
       "      <th>Id</th>\n",
       "      <th>SalePrice</th>\n",
       "      <th>GrLivArea</th>\n",
       "      <th>OverallQual</th>\n",
       "      <th>BedroomAbvGr</th>\n",
       "      <th>CentralAir</th>\n",
       "      <th>Fireplaces</th>\n",
       "      <th>TotRmsAbvGrd</th>\n",
       "      <th>1stFlrSF</th>\n",
       "      <th>TotalBsmtSF</th>\n",
       "      <th>OverallCond</th>\n",
       "    </tr>\n",
       "  </thead>\n",
       "  <tbody>\n",
       "    <tr>\n",
       "      <th>0</th>\n",
       "      <td>1472</td>\n",
       "      <td>95634.465000</td>\n",
       "      <td>987</td>\n",
       "      <td>6</td>\n",
       "      <td>2</td>\n",
       "      <td>1</td>\n",
       "      <td>0</td>\n",
       "      <td>5</td>\n",
       "      <td>483</td>\n",
       "      <td>483.0</td>\n",
       "      <td>5</td>\n",
       "    </tr>\n",
       "    <tr>\n",
       "      <th>1</th>\n",
       "      <td>1473</td>\n",
       "      <td>86522.461667</td>\n",
       "      <td>1092</td>\n",
       "      <td>5</td>\n",
       "      <td>3</td>\n",
       "      <td>1</td>\n",
       "      <td>0</td>\n",
       "      <td>6</td>\n",
       "      <td>525</td>\n",
       "      <td>525.0</td>\n",
       "      <td>5</td>\n",
       "    </tr>\n",
       "    <tr>\n",
       "      <th>2</th>\n",
       "      <td>1601</td>\n",
       "      <td>82386.414762</td>\n",
       "      <td>540</td>\n",
       "      <td>2</td>\n",
       "      <td>1</td>\n",
       "      <td>1</td>\n",
       "      <td>0</td>\n",
       "      <td>4</td>\n",
       "      <td>540</td>\n",
       "      <td>480.0</td>\n",
       "      <td>5</td>\n",
       "    </tr>\n",
       "    <tr>\n",
       "      <th>3</th>\n",
       "      <td>1602</td>\n",
       "      <td>92500.957500</td>\n",
       "      <td>1107</td>\n",
       "      <td>6</td>\n",
       "      <td>2</td>\n",
       "      <td>1</td>\n",
       "      <td>0</td>\n",
       "      <td>5</td>\n",
       "      <td>727</td>\n",
       "      <td>629.0</td>\n",
       "      <td>5</td>\n",
       "    </tr>\n",
       "    <tr>\n",
       "      <th>4</th>\n",
       "      <td>1603</td>\n",
       "      <td>104837.838333</td>\n",
       "      <td>952</td>\n",
       "      <td>4</td>\n",
       "      <td>3</td>\n",
       "      <td>1</td>\n",
       "      <td>0</td>\n",
       "      <td>5</td>\n",
       "      <td>952</td>\n",
       "      <td>756.0</td>\n",
       "      <td>7</td>\n",
       "    </tr>\n",
       "  </tbody>\n",
       "</table>\n",
       "</div>"
      ],
      "text/plain": [
       "     Id      SalePrice  GrLivArea  OverallQual  BedroomAbvGr  CentralAir  \\\n",
       "0  1472   95634.465000        987            6             2           1   \n",
       "1  1473   86522.461667       1092            5             3           1   \n",
       "2  1601   82386.414762        540            2             1           1   \n",
       "3  1602   92500.957500       1107            6             2           1   \n",
       "4  1603  104837.838333        952            4             3           1   \n",
       "\n",
       "   Fireplaces  TotRmsAbvGrd  1stFlrSF  TotalBsmtSF  OverallCond  \n",
       "0           0             5       483        483.0            5  \n",
       "1           0             6       525        525.0            5  \n",
       "2           0             4       540        480.0            5  \n",
       "3           0             5       727        629.0            5  \n",
       "4           0             5       952        756.0            7  "
      ]
     },
     "execution_count": 70,
     "metadata": {},
     "output_type": "execute_result"
    }
   ],
   "source": [
    "bot_result.head()"
   ]
  },
  {
   "cell_type": "markdown",
   "metadata": {},
   "source": [
    "### Test for Average Neighborhoods"
   ]
  },
  {
   "cell_type": "code",
   "execution_count": 71,
   "metadata": {},
   "outputs": [
    {
     "data": {
      "text/plain": [
       "OverallQual     0\n",
       "GrLivArea       0\n",
       "GarageCars      0\n",
       "GarageArea      0\n",
       "FullBath        0\n",
       "TotalBsmtSF     1\n",
       "YearRemodAdd    0\n",
       "1stFlrSF        0\n",
       "YearBuilt       0\n",
       "dtype: int64"
      ]
     },
     "execution_count": 71,
     "metadata": {},
     "output_type": "execute_result"
    }
   ],
   "source": [
    "data_test_avg[avg_cols].isnull().sum()"
   ]
  },
  {
   "cell_type": "code",
   "execution_count": 72,
   "metadata": {},
   "outputs": [
    {
     "data": {
      "text/plain": [
       "count    1223.000000\n",
       "mean     1013.405560\n",
       "std       406.341575\n",
       "min         0.000000\n",
       "25%       793.500000\n",
       "50%       970.000000\n",
       "75%      1223.500000\n",
       "max      5095.000000\n",
       "Name: TotalBsmtSF, dtype: float64"
      ]
     },
     "execution_count": 72,
     "metadata": {},
     "output_type": "execute_result"
    }
   ],
   "source": [
    "data_test_avg['TotalBsmtSF'].describe()"
   ]
  },
  {
   "cell_type": "code",
   "execution_count": 73,
   "metadata": {},
   "outputs": [
    {
     "data": {
      "text/plain": [
       "OverallQual     0\n",
       "GrLivArea       0\n",
       "GarageCars      0\n",
       "GarageArea      0\n",
       "FullBath        0\n",
       "TotalBsmtSF     0\n",
       "YearRemodAdd    0\n",
       "1stFlrSF        0\n",
       "YearBuilt       0\n",
       "dtype: int64"
      ]
     },
     "execution_count": 73,
     "metadata": {},
     "output_type": "execute_result"
    }
   ],
   "source": [
    "# Replace TotalBsmtSF null value with zero\n",
    "data_test_avg['TotalBsmtSF'] = data_test_avg['TotalBsmtSF'].fillna(0.0)\n",
    "data_test_avg[avg_cols].isnull().sum() # no more null values"
   ]
  },
  {
   "cell_type": "code",
   "execution_count": 74,
   "metadata": {},
   "outputs": [
    {
     "data": {
      "text/html": [
       "<div>\n",
       "<style scoped>\n",
       "    .dataframe tbody tr th:only-of-type {\n",
       "        vertical-align: middle;\n",
       "    }\n",
       "\n",
       "    .dataframe tbody tr th {\n",
       "        vertical-align: top;\n",
       "    }\n",
       "\n",
       "    .dataframe thead th {\n",
       "        text-align: right;\n",
       "    }\n",
       "</style>\n",
       "<table border=\"1\" class=\"dataframe\">\n",
       "  <thead>\n",
       "    <tr style=\"text-align: right;\">\n",
       "      <th></th>\n",
       "      <th>OverallQual</th>\n",
       "      <th>GrLivArea</th>\n",
       "      <th>GarageCars</th>\n",
       "      <th>GarageArea</th>\n",
       "      <th>FullBath</th>\n",
       "      <th>TotalBsmtSF</th>\n",
       "      <th>YearRemodAdd</th>\n",
       "      <th>1stFlrSF</th>\n",
       "      <th>YearBuilt</th>\n",
       "    </tr>\n",
       "  </thead>\n",
       "  <tbody>\n",
       "    <tr>\n",
       "      <th>0</th>\n",
       "      <td>5</td>\n",
       "      <td>896</td>\n",
       "      <td>1.0</td>\n",
       "      <td>730.0</td>\n",
       "      <td>1</td>\n",
       "      <td>882.0</td>\n",
       "      <td>1961</td>\n",
       "      <td>896</td>\n",
       "      <td>1961</td>\n",
       "    </tr>\n",
       "    <tr>\n",
       "      <th>1</th>\n",
       "      <td>6</td>\n",
       "      <td>1329</td>\n",
       "      <td>1.0</td>\n",
       "      <td>312.0</td>\n",
       "      <td>1</td>\n",
       "      <td>1329.0</td>\n",
       "      <td>1958</td>\n",
       "      <td>1329</td>\n",
       "      <td>1958</td>\n",
       "    </tr>\n",
       "    <tr>\n",
       "      <th>2</th>\n",
       "      <td>5</td>\n",
       "      <td>1629</td>\n",
       "      <td>2.0</td>\n",
       "      <td>482.0</td>\n",
       "      <td>2</td>\n",
       "      <td>928.0</td>\n",
       "      <td>1998</td>\n",
       "      <td>928</td>\n",
       "      <td>1997</td>\n",
       "    </tr>\n",
       "    <tr>\n",
       "      <th>3</th>\n",
       "      <td>6</td>\n",
       "      <td>1604</td>\n",
       "      <td>2.0</td>\n",
       "      <td>470.0</td>\n",
       "      <td>2</td>\n",
       "      <td>926.0</td>\n",
       "      <td>1998</td>\n",
       "      <td>926</td>\n",
       "      <td>1998</td>\n",
       "    </tr>\n",
       "    <tr>\n",
       "      <th>4</th>\n",
       "      <td>6</td>\n",
       "      <td>1655</td>\n",
       "      <td>2.0</td>\n",
       "      <td>440.0</td>\n",
       "      <td>2</td>\n",
       "      <td>763.0</td>\n",
       "      <td>1994</td>\n",
       "      <td>763</td>\n",
       "      <td>1993</td>\n",
       "    </tr>\n",
       "  </tbody>\n",
       "</table>\n",
       "</div>"
      ],
      "text/plain": [
       "   OverallQual  GrLivArea  GarageCars  GarageArea  FullBath  TotalBsmtSF  \\\n",
       "0            5        896         1.0       730.0         1        882.0   \n",
       "1            6       1329         1.0       312.0         1       1329.0   \n",
       "2            5       1629         2.0       482.0         2        928.0   \n",
       "3            6       1604         2.0       470.0         2        926.0   \n",
       "4            6       1655         2.0       440.0         2        763.0   \n",
       "\n",
       "   YearRemodAdd  1stFlrSF  YearBuilt  \n",
       "0          1961       896       1961  \n",
       "1          1958      1329       1958  \n",
       "2          1998       928       1997  \n",
       "3          1998       926       1998  \n",
       "4          1994       763       1993  "
      ]
     },
     "execution_count": 74,
     "metadata": {},
     "output_type": "execute_result"
    }
   ],
   "source": [
    "data_test_avg_x = pd.concat([data_test_avg[avg_cols]], axis=1)\n",
    "data_test_avg_x = data_test_avg_x.reset_index(drop=True)\n",
    "data_test_avg_x.head()"
   ]
  },
  {
   "cell_type": "code",
   "execution_count": 75,
   "metadata": {},
   "outputs": [
    {
     "name": "stdout",
     "output_type": "stream",
     "text": [
      "(1224,)\n"
     ]
    }
   ],
   "source": [
    "x_test_avg = data_test_avg_x.values\n",
    "y_test_pred_avg = rfr_avg.predict(x_test_avg)\n",
    "print(y_test_pred_avg.shape)"
   ]
  },
  {
   "cell_type": "code",
   "execution_count": 76,
   "metadata": {},
   "outputs": [
    {
     "name": "stdout",
     "output_type": "stream",
     "text": [
      "(1224, 9)\n"
     ]
    }
   ],
   "source": [
    "print(x_test_avg.shape)"
   ]
  },
  {
   "cell_type": "code",
   "execution_count": 77,
   "metadata": {},
   "outputs": [
    {
     "data": {
      "text/html": [
       "<div>\n",
       "<style scoped>\n",
       "    .dataframe tbody tr th:only-of-type {\n",
       "        vertical-align: middle;\n",
       "    }\n",
       "\n",
       "    .dataframe tbody tr th {\n",
       "        vertical-align: top;\n",
       "    }\n",
       "\n",
       "    .dataframe thead th {\n",
       "        text-align: right;\n",
       "    }\n",
       "</style>\n",
       "<table border=\"1\" class=\"dataframe\">\n",
       "  <thead>\n",
       "    <tr style=\"text-align: right;\">\n",
       "      <th></th>\n",
       "      <th>Id</th>\n",
       "      <th>SalePrice</th>\n",
       "      <th>OverallQual</th>\n",
       "      <th>GrLivArea</th>\n",
       "      <th>GarageCars</th>\n",
       "      <th>GarageArea</th>\n",
       "      <th>FullBath</th>\n",
       "      <th>TotalBsmtSF</th>\n",
       "      <th>YearRemodAdd</th>\n",
       "      <th>1stFlrSF</th>\n",
       "      <th>YearBuilt</th>\n",
       "    </tr>\n",
       "  </thead>\n",
       "  <tbody>\n",
       "    <tr>\n",
       "      <th>0</th>\n",
       "      <td>1461</td>\n",
       "      <td>116228.1475</td>\n",
       "      <td>5</td>\n",
       "      <td>896</td>\n",
       "      <td>1.0</td>\n",
       "      <td>730.0</td>\n",
       "      <td>1</td>\n",
       "      <td>882.0</td>\n",
       "      <td>1961</td>\n",
       "      <td>896</td>\n",
       "      <td>1961</td>\n",
       "    </tr>\n",
       "    <tr>\n",
       "      <th>1</th>\n",
       "      <td>1462</td>\n",
       "      <td>155025.6250</td>\n",
       "      <td>6</td>\n",
       "      <td>1329</td>\n",
       "      <td>1.0</td>\n",
       "      <td>312.0</td>\n",
       "      <td>1</td>\n",
       "      <td>1329.0</td>\n",
       "      <td>1958</td>\n",
       "      <td>1329</td>\n",
       "      <td>1958</td>\n",
       "    </tr>\n",
       "    <tr>\n",
       "      <th>2</th>\n",
       "      <td>1463</td>\n",
       "      <td>174211.0350</td>\n",
       "      <td>5</td>\n",
       "      <td>1629</td>\n",
       "      <td>2.0</td>\n",
       "      <td>482.0</td>\n",
       "      <td>2</td>\n",
       "      <td>928.0</td>\n",
       "      <td>1998</td>\n",
       "      <td>928</td>\n",
       "      <td>1997</td>\n",
       "    </tr>\n",
       "    <tr>\n",
       "      <th>3</th>\n",
       "      <td>1464</td>\n",
       "      <td>186428.7500</td>\n",
       "      <td>6</td>\n",
       "      <td>1604</td>\n",
       "      <td>2.0</td>\n",
       "      <td>470.0</td>\n",
       "      <td>2</td>\n",
       "      <td>926.0</td>\n",
       "      <td>1998</td>\n",
       "      <td>926</td>\n",
       "      <td>1998</td>\n",
       "    </tr>\n",
       "    <tr>\n",
       "      <th>4</th>\n",
       "      <td>1466</td>\n",
       "      <td>180276.2500</td>\n",
       "      <td>6</td>\n",
       "      <td>1655</td>\n",
       "      <td>2.0</td>\n",
       "      <td>440.0</td>\n",
       "      <td>2</td>\n",
       "      <td>763.0</td>\n",
       "      <td>1994</td>\n",
       "      <td>763</td>\n",
       "      <td>1993</td>\n",
       "    </tr>\n",
       "  </tbody>\n",
       "</table>\n",
       "</div>"
      ],
      "text/plain": [
       "     Id    SalePrice  OverallQual  GrLivArea  GarageCars  GarageArea  \\\n",
       "0  1461  116228.1475            5        896         1.0       730.0   \n",
       "1  1462  155025.6250            6       1329         1.0       312.0   \n",
       "2  1463  174211.0350            5       1629         2.0       482.0   \n",
       "3  1464  186428.7500            6       1604         2.0       470.0   \n",
       "4  1466  180276.2500            6       1655         2.0       440.0   \n",
       "\n",
       "   FullBath  TotalBsmtSF  YearRemodAdd  1stFlrSF  YearBuilt  \n",
       "0         1        882.0          1961       896       1961  \n",
       "1         1       1329.0          1958      1329       1958  \n",
       "2         2        928.0          1998       928       1997  \n",
       "3         2        926.0          1998       926       1998  \n",
       "4         2        763.0          1994       763       1993  "
      ]
     },
     "execution_count": 77,
     "metadata": {},
     "output_type": "execute_result"
    }
   ],
   "source": [
    "avg_prediction = pd.DataFrame(y_test_pred_avg, columns=['SalePrice'])\n",
    "avg_id = data_test_avg['Id'].transpose().reset_index(drop=True).transpose()\n",
    "avg_result = pd.concat([avg_id, avg_prediction,data_test_avg_x], axis=1)\n",
    "avg_result.head()"
   ]
  },
  {
   "cell_type": "markdown",
   "metadata": {},
   "source": [
    "## VI - Further Analysis to sell home at the highest value\n",
    "In this analysis, we look into what type of home improvement help a seller maxmize return in sale price. From the above test cases, we pick one home from the above test cases and run it in each model while updating its home features.\n",
    "<br />\n",
    "<br />\n",
    "The test case picked is random.\n",
    "<br />\n",
    "<br />\n",
    "<b>Test Case Id</b>: 1625"
   ]
  },
  {
   "cell_type": "code",
   "execution_count": 78,
   "metadata": {},
   "outputs": [],
   "source": [
    "data_test = pd.read_csv('https://raw.githubusercontent.com/scottsun17/HomePricePrediction/master/Data/test.csv')"
   ]
  },
  {
   "cell_type": "code",
   "execution_count": 79,
   "metadata": {},
   "outputs": [
    {
     "data": {
      "text/html": [
       "<div>\n",
       "<style scoped>\n",
       "    .dataframe tbody tr th:only-of-type {\n",
       "        vertical-align: middle;\n",
       "    }\n",
       "\n",
       "    .dataframe tbody tr th {\n",
       "        vertical-align: top;\n",
       "    }\n",
       "\n",
       "    .dataframe thead th {\n",
       "        text-align: right;\n",
       "    }\n",
       "</style>\n",
       "<table border=\"1\" class=\"dataframe\">\n",
       "  <thead>\n",
       "    <tr style=\"text-align: right;\">\n",
       "      <th></th>\n",
       "      <th>Id</th>\n",
       "      <th>MSSubClass</th>\n",
       "      <th>MSZoning</th>\n",
       "      <th>LotFrontage</th>\n",
       "      <th>LotArea</th>\n",
       "      <th>Street</th>\n",
       "      <th>Alley</th>\n",
       "      <th>LotShape</th>\n",
       "      <th>LandContour</th>\n",
       "      <th>Utilities</th>\n",
       "      <th>...</th>\n",
       "      <th>ScreenPorch</th>\n",
       "      <th>PoolArea</th>\n",
       "      <th>PoolQC</th>\n",
       "      <th>Fence</th>\n",
       "      <th>MiscFeature</th>\n",
       "      <th>MiscVal</th>\n",
       "      <th>MoSold</th>\n",
       "      <th>YrSold</th>\n",
       "      <th>SaleType</th>\n",
       "      <th>SaleCondition</th>\n",
       "    </tr>\n",
       "  </thead>\n",
       "  <tbody>\n",
       "    <tr>\n",
       "      <th>164</th>\n",
       "      <td>1625</td>\n",
       "      <td>20</td>\n",
       "      <td>RL</td>\n",
       "      <td>74.0</td>\n",
       "      <td>13008</td>\n",
       "      <td>Pave</td>\n",
       "      <td>NaN</td>\n",
       "      <td>IR1</td>\n",
       "      <td>Lvl</td>\n",
       "      <td>AllPub</td>\n",
       "      <td>...</td>\n",
       "      <td>0</td>\n",
       "      <td>0</td>\n",
       "      <td>NaN</td>\n",
       "      <td>NaN</td>\n",
       "      <td>NaN</td>\n",
       "      <td>0</td>\n",
       "      <td>10</td>\n",
       "      <td>2009</td>\n",
       "      <td>WD</td>\n",
       "      <td>Normal</td>\n",
       "    </tr>\n",
       "  </tbody>\n",
       "</table>\n",
       "<p>1 rows × 80 columns</p>\n",
       "</div>"
      ],
      "text/plain": [
       "       Id  MSSubClass MSZoning  LotFrontage  LotArea Street Alley LotShape  \\\n",
       "164  1625          20       RL         74.0    13008   Pave   NaN      IR1   \n",
       "\n",
       "    LandContour Utilities  ... ScreenPorch PoolArea PoolQC Fence MiscFeature  \\\n",
       "164         Lvl    AllPub  ...           0        0    NaN   NaN         NaN   \n",
       "\n",
       "    MiscVal MoSold  YrSold  SaleType  SaleCondition  \n",
       "164       0     10    2009        WD         Normal  \n",
       "\n",
       "[1 rows x 80 columns]"
      ]
     },
     "execution_count": 79,
     "metadata": {},
     "output_type": "execute_result"
    }
   ],
   "source": [
    "home = data_test[data_test.Id == 1625]\n",
    "home"
   ]
  },
  {
   "cell_type": "markdown",
   "metadata": {},
   "source": [
    "### Test 1 - Perdicting a house with same features but in different Neighborhoods\n"
   ]
  },
  {
   "cell_type": "code",
   "execution_count": 80,
   "metadata": {},
   "outputs": [
    {
     "name": "stdout",
     "output_type": "stream",
     "text": [
      "['GrLivArea', 0.7532868535915043]\n",
      "['OverallQual', 0.7016559587814362]\n",
      "['TotRmsAbvGrd', 0.6496524389306012]\n",
      "['1stFlrSF', 0.6360366194783552]\n",
      "['TotalBsmtSF', 0.6069767211354806]\n",
      "['GarageCars', 0.579746265035379]\n",
      "['LotArea', 0.5453157793936385]\n",
      "['MasVnrArea', 0.5060400196534659]\n",
      "['GarageArea', 0.4872056238137419]\n"
     ]
    }
   ],
   "source": [
    "cor_maxtrix_top = data_top.corr()\n",
    "for i in cor_maxtrix_top.nlargest(10, 'SalePrice')['SalePrice'].index:\n",
    "        if cor_maxtrix_top['SalePrice'][i] > 0.3 and cor_maxtrix_top['SalePrice'][i] < 1:\n",
    "            print([i, cor_maxtrix_top['SalePrice'][i]])"
   ]
  },
  {
   "cell_type": "code",
   "execution_count": 81,
   "metadata": {},
   "outputs": [
    {
     "name": "stdout",
     "output_type": "stream",
     "text": [
      "['OverallQual', 0.7517045122791117]\n",
      "['GrLivArea', 0.6402725570189097]\n",
      "['GarageCars', 0.5798872136306279]\n",
      "['GarageArea', 0.5657584384144205]\n",
      "['FullBath', 0.5291839385446326]\n",
      "['TotalBsmtSF', 0.4967576399803022]\n",
      "['YearRemodAdd', 0.49514131020520685]\n",
      "['1stFlrSF', 0.49360326291296236]\n",
      "['YearBuilt', 0.4886690264096027]\n"
     ]
    }
   ],
   "source": [
    "cor_maxtrix_avg = data_average.corr()\n",
    "for i in cor_maxtrix_avg.nlargest(10, 'SalePrice')['SalePrice'].index:\n",
    "        if cor_maxtrix_avg['SalePrice'][i] > 0.3 and cor_maxtrix_avg['SalePrice'][i] < 1:\n",
    "            print([i, cor_maxtrix_avg['SalePrice'][i]])"
   ]
  },
  {
   "cell_type": "code",
   "execution_count": 82,
   "metadata": {},
   "outputs": [
    {
     "name": "stdout",
     "output_type": "stream",
     "text": [
      "['OverallQual', 0.5350786517545355]\n",
      "['GrLivArea', 0.5820987138245443]\n",
      "['TotalBsmtSF', 0.4103263758429764]\n",
      "['1stFlrSF', 0.4245822156350113]\n"
     ]
    }
   ],
   "source": [
    "cor_maxtrix_bot = data_bot.corr()\n",
    "for i in cor_maxtrix_avg.nlargest(10, 'SalePrice')['SalePrice'].index:\n",
    "        if cor_maxtrix_bot['SalePrice'][i] > 0.3 and cor_maxtrix_bot['SalePrice'][i] < 1:\n",
    "            print([i, cor_maxtrix_bot['SalePrice'][i]])"
   ]
  },
  {
   "cell_type": "code",
   "execution_count": 83,
   "metadata": {},
   "outputs": [
    {
     "data": {
      "text/plain": [
       "GrLivArea       0\n",
       "OverallQual     0\n",
       "TotRmsAbvGrd    0\n",
       "1stFlrSF        0\n",
       "TotalBsmtSF     0\n",
       "GarageCars      0\n",
       "LotArea         0\n",
       "MasVnrArea      0\n",
       "LotFrontage     0\n",
       "dtype: int64"
      ]
     },
     "execution_count": 83,
     "metadata": {},
     "output_type": "execute_result"
    }
   ],
   "source": [
    "home[top_cols].isnull().sum() # check if there is nan value"
   ]
  },
  {
   "cell_type": "code",
   "execution_count": 84,
   "metadata": {},
   "outputs": [
    {
     "data": {
      "text/plain": [
       "OverallQual     0\n",
       "GrLivArea       0\n",
       "GarageCars      0\n",
       "GarageArea      0\n",
       "FullBath        0\n",
       "TotalBsmtSF     0\n",
       "YearRemodAdd    0\n",
       "1stFlrSF        0\n",
       "YearBuilt       0\n",
       "dtype: int64"
      ]
     },
     "execution_count": 84,
     "metadata": {},
     "output_type": "execute_result"
    }
   ],
   "source": [
    "home[avg_cols].isnull().sum() # check if there is nan value"
   ]
  },
  {
   "cell_type": "code",
   "execution_count": 85,
   "metadata": {},
   "outputs": [
    {
     "data": {
      "text/html": [
       "<div>\n",
       "<style scoped>\n",
       "    .dataframe tbody tr th:only-of-type {\n",
       "        vertical-align: middle;\n",
       "    }\n",
       "\n",
       "    .dataframe tbody tr th {\n",
       "        vertical-align: top;\n",
       "    }\n",
       "\n",
       "    .dataframe thead th {\n",
       "        text-align: right;\n",
       "    }\n",
       "</style>\n",
       "<table border=\"1\" class=\"dataframe\">\n",
       "  <thead>\n",
       "    <tr style=\"text-align: right;\">\n",
       "      <th></th>\n",
       "      <th>GrLivArea</th>\n",
       "      <th>OverallQual</th>\n",
       "      <th>BedroomAbvGr</th>\n",
       "      <th>CentralAir</th>\n",
       "      <th>Fireplaces</th>\n",
       "      <th>TotRmsAbvGrd</th>\n",
       "      <th>1stFlrSF</th>\n",
       "      <th>TotalBsmtSF</th>\n",
       "      <th>OverallCond</th>\n",
       "    </tr>\n",
       "  </thead>\n",
       "  <tbody>\n",
       "    <tr>\n",
       "      <th>164</th>\n",
       "      <td>882</td>\n",
       "      <td>6</td>\n",
       "      <td>2</td>\n",
       "      <td>Y</td>\n",
       "      <td>0</td>\n",
       "      <td>5</td>\n",
       "      <td>882</td>\n",
       "      <td>882.0</td>\n",
       "      <td>5</td>\n",
       "    </tr>\n",
       "  </tbody>\n",
       "</table>\n",
       "</div>"
      ],
      "text/plain": [
       "     GrLivArea  OverallQual  BedroomAbvGr CentralAir  Fireplaces  \\\n",
       "164        882            6             2          Y           0   \n",
       "\n",
       "     TotRmsAbvGrd  1stFlrSF  TotalBsmtSF  OverallCond  \n",
       "164             5       882        882.0            5  "
      ]
     },
     "execution_count": 85,
     "metadata": {},
     "output_type": "execute_result"
    }
   ],
   "source": [
    "home[bot_cols]"
   ]
  },
  {
   "cell_type": "code",
   "execution_count": 86,
   "metadata": {},
   "outputs": [],
   "source": [
    "home['CentralAir'] = 1"
   ]
  },
  {
   "cell_type": "code",
   "execution_count": 87,
   "metadata": {},
   "outputs": [
    {
     "data": {
      "text/html": [
       "<div>\n",
       "<style scoped>\n",
       "    .dataframe tbody tr th:only-of-type {\n",
       "        vertical-align: middle;\n",
       "    }\n",
       "\n",
       "    .dataframe tbody tr th {\n",
       "        vertical-align: top;\n",
       "    }\n",
       "\n",
       "    .dataframe thead th {\n",
       "        text-align: right;\n",
       "    }\n",
       "</style>\n",
       "<table border=\"1\" class=\"dataframe\">\n",
       "  <thead>\n",
       "    <tr style=\"text-align: right;\">\n",
       "      <th></th>\n",
       "      <th>Id</th>\n",
       "      <th>SalePrice</th>\n",
       "      <th>GrLivArea</th>\n",
       "      <th>OverallQual</th>\n",
       "      <th>TotRmsAbvGrd</th>\n",
       "      <th>1stFlrSF</th>\n",
       "      <th>TotalBsmtSF</th>\n",
       "      <th>GarageCars</th>\n",
       "      <th>LotArea</th>\n",
       "      <th>MasVnrArea</th>\n",
       "      <th>LotFrontage</th>\n",
       "    </tr>\n",
       "  </thead>\n",
       "  <tbody>\n",
       "    <tr>\n",
       "      <th>0</th>\n",
       "      <td>1625</td>\n",
       "      <td>230099.485</td>\n",
       "      <td>882</td>\n",
       "      <td>6</td>\n",
       "      <td>5</td>\n",
       "      <td>882</td>\n",
       "      <td>882.0</td>\n",
       "      <td>1.0</td>\n",
       "      <td>13008</td>\n",
       "      <td>0.0</td>\n",
       "      <td>74.0</td>\n",
       "    </tr>\n",
       "  </tbody>\n",
       "</table>\n",
       "</div>"
      ],
      "text/plain": [
       "     Id   SalePrice  GrLivArea  OverallQual  TotRmsAbvGrd  1stFlrSF  \\\n",
       "0  1625  230099.485        882            6             5       882   \n",
       "\n",
       "   TotalBsmtSF  GarageCars  LotArea  MasVnrArea  LotFrontage  \n",
       "0        882.0         1.0    13008         0.0         74.0  "
      ]
     },
     "execution_count": 87,
     "metadata": {},
     "output_type": "execute_result"
    }
   ],
   "source": [
    "home_top_test_1 = home[top_cols]\n",
    "home_top_test_1 = home_top_test_1.reset_index(drop=True)\n",
    "\n",
    "# using the current data to predict the price using the Top Three Neighborhoods Model\n",
    "home_top_test_1_price = rfr_top.predict(home_top_test_1.values)\n",
    "home_top_test_1_price = pd.DataFrame(home_top_test_1_price, columns=['SalePrice'])\n",
    "case_id = home['Id'].transpose().reset_index(drop=True).transpose()\n",
    "home_top_res_1 = pd.concat([case_id, home_top_test_1_price, home_top_test_1], axis=1)\n",
    "\n",
    "# case 1 in top neighborhoods with original data\n",
    "home_top_res_1"
   ]
  },
  {
   "cell_type": "code",
   "execution_count": 88,
   "metadata": {},
   "outputs": [
    {
     "data": {
      "text/html": [
       "<div>\n",
       "<style scoped>\n",
       "    .dataframe tbody tr th:only-of-type {\n",
       "        vertical-align: middle;\n",
       "    }\n",
       "\n",
       "    .dataframe tbody tr th {\n",
       "        vertical-align: top;\n",
       "    }\n",
       "\n",
       "    .dataframe thead th {\n",
       "        text-align: right;\n",
       "    }\n",
       "</style>\n",
       "<table border=\"1\" class=\"dataframe\">\n",
       "  <thead>\n",
       "    <tr style=\"text-align: right;\">\n",
       "      <th></th>\n",
       "      <th>Id</th>\n",
       "      <th>SalePrice</th>\n",
       "      <th>OverallQual</th>\n",
       "      <th>GrLivArea</th>\n",
       "      <th>GarageCars</th>\n",
       "      <th>GarageArea</th>\n",
       "      <th>FullBath</th>\n",
       "      <th>TotalBsmtSF</th>\n",
       "      <th>YearRemodAdd</th>\n",
       "      <th>1stFlrSF</th>\n",
       "      <th>YearBuilt</th>\n",
       "    </tr>\n",
       "  </thead>\n",
       "  <tbody>\n",
       "    <tr>\n",
       "      <th>0</th>\n",
       "      <td>1625</td>\n",
       "      <td>117948.23</td>\n",
       "      <td>6</td>\n",
       "      <td>882</td>\n",
       "      <td>1.0</td>\n",
       "      <td>502.0</td>\n",
       "      <td>1</td>\n",
       "      <td>882.0</td>\n",
       "      <td>1956</td>\n",
       "      <td>882</td>\n",
       "      <td>1956</td>\n",
       "    </tr>\n",
       "  </tbody>\n",
       "</table>\n",
       "</div>"
      ],
      "text/plain": [
       "     Id  SalePrice  OverallQual  GrLivArea  GarageCars  GarageArea  FullBath  \\\n",
       "0  1625  117948.23            6        882         1.0       502.0         1   \n",
       "\n",
       "   TotalBsmtSF  YearRemodAdd  1stFlrSF  YearBuilt  \n",
       "0        882.0          1956       882       1956  "
      ]
     },
     "execution_count": 88,
     "metadata": {},
     "output_type": "execute_result"
    }
   ],
   "source": [
    "\n",
    "home_avg_test_1 = home[avg_cols]\n",
    "home_avg_test_1 = home_avg_test_1.reset_index(drop=True)\n",
    "\n",
    "# using the current data to predict the price using the Top Three Neighborhoods Model\n",
    "home_avg_test_1_price = rfr_avg.predict(home_avg_test_1.values)\n",
    "home_avg_test_1_price = pd.DataFrame(home_avg_test_1_price, columns=['SalePrice'])\n",
    "case_id = home['Id'].transpose().reset_index(drop=True).transpose()\n",
    "home_avg_res_1 = pd.concat([case_id, home_avg_test_1_price, home_avg_test_1], axis=1)\n",
    "\n",
    "# case 1 in top neighborhoods with original data\n",
    "home_avg_res_1"
   ]
  },
  {
   "cell_type": "code",
   "execution_count": 89,
   "metadata": {},
   "outputs": [
    {
     "data": {
      "text/html": [
       "<div>\n",
       "<style scoped>\n",
       "    .dataframe tbody tr th:only-of-type {\n",
       "        vertical-align: middle;\n",
       "    }\n",
       "\n",
       "    .dataframe tbody tr th {\n",
       "        vertical-align: top;\n",
       "    }\n",
       "\n",
       "    .dataframe thead th {\n",
       "        text-align: right;\n",
       "    }\n",
       "</style>\n",
       "<table border=\"1\" class=\"dataframe\">\n",
       "  <thead>\n",
       "    <tr style=\"text-align: right;\">\n",
       "      <th></th>\n",
       "      <th>Id</th>\n",
       "      <th>SalePrice</th>\n",
       "      <th>GrLivArea</th>\n",
       "      <th>OverallQual</th>\n",
       "      <th>BedroomAbvGr</th>\n",
       "      <th>CentralAir</th>\n",
       "      <th>Fireplaces</th>\n",
       "      <th>TotRmsAbvGrd</th>\n",
       "      <th>1stFlrSF</th>\n",
       "      <th>TotalBsmtSF</th>\n",
       "      <th>OverallCond</th>\n",
       "    </tr>\n",
       "  </thead>\n",
       "  <tbody>\n",
       "    <tr>\n",
       "      <th>0</th>\n",
       "      <td>1625</td>\n",
       "      <td>105282.866667</td>\n",
       "      <td>882</td>\n",
       "      <td>6</td>\n",
       "      <td>2</td>\n",
       "      <td>1</td>\n",
       "      <td>0</td>\n",
       "      <td>5</td>\n",
       "      <td>882</td>\n",
       "      <td>882.0</td>\n",
       "      <td>5</td>\n",
       "    </tr>\n",
       "  </tbody>\n",
       "</table>\n",
       "</div>"
      ],
      "text/plain": [
       "     Id      SalePrice  GrLivArea  OverallQual  BedroomAbvGr  CentralAir  \\\n",
       "0  1625  105282.866667        882            6             2           1   \n",
       "\n",
       "   Fireplaces  TotRmsAbvGrd  1stFlrSF  TotalBsmtSF  OverallCond  \n",
       "0           0             5       882        882.0            5  "
      ]
     },
     "execution_count": 89,
     "metadata": {},
     "output_type": "execute_result"
    }
   ],
   "source": [
    "\n",
    "home_bot_test_1 = home[bot_cols]\n",
    "home_bot_test_1 = home_bot_test_1.reset_index(drop=True)\n",
    "\n",
    "# using the current data to predict the price using the Top Three Neighborhoods Model\n",
    "home_bot_test_1_price = rfr_bot.predict(home_bot_test_1.values)\n",
    "home_bot_test_1_price = pd.DataFrame(home_bot_test_1_price, columns=['SalePrice'])\n",
    "case_id = home['Id'].transpose().reset_index(drop=True).transpose()\n",
    "home_bot_res_1 = pd.concat([case_id, home_bot_test_1_price, home_bot_test_1], axis=1)\n",
    "\n",
    "# case 1 in top neighborhoods with original data\n",
    "home_bot_res_1"
   ]
  },
  {
   "cell_type": "code",
   "execution_count": 90,
   "metadata": {},
   "outputs": [
    {
     "data": {
      "text/html": [
       "<div>\n",
       "<style scoped>\n",
       "    .dataframe tbody tr th:only-of-type {\n",
       "        vertical-align: middle;\n",
       "    }\n",
       "\n",
       "    .dataframe tbody tr th {\n",
       "        vertical-align: top;\n",
       "    }\n",
       "\n",
       "    .dataframe thead th {\n",
       "        text-align: right;\n",
       "    }\n",
       "</style>\n",
       "<table border=\"1\" class=\"dataframe\">\n",
       "  <thead>\n",
       "    <tr style=\"text-align: right;\">\n",
       "      <th></th>\n",
       "      <th>Neighborhood Categories</th>\n",
       "      <th>Sale Price</th>\n",
       "    </tr>\n",
       "  </thead>\n",
       "  <tbody>\n",
       "    <tr>\n",
       "      <th>0</th>\n",
       "      <td>Top</td>\n",
       "      <td>230099.485000</td>\n",
       "    </tr>\n",
       "    <tr>\n",
       "      <th>1</th>\n",
       "      <td>Average</td>\n",
       "      <td>117948.230000</td>\n",
       "    </tr>\n",
       "    <tr>\n",
       "      <th>2</th>\n",
       "      <td>Bot</td>\n",
       "      <td>105282.866667</td>\n",
       "    </tr>\n",
       "  </tbody>\n",
       "</table>\n",
       "</div>"
      ],
      "text/plain": [
       "  Neighborhood Categories     Sale Price\n",
       "0                     Top  230099.485000\n",
       "1                 Average  117948.230000\n",
       "2                     Bot  105282.866667"
      ]
     },
     "execution_count": 90,
     "metadata": {},
     "output_type": "execute_result"
    }
   ],
   "source": [
    "res = pd.DataFrame({'Neighborhood Categories':['Top', 'Average', 'Bot'], 'Sale Price':[float(home_top_res_1['SalePrice']), float(home_avg_res_1['SalePrice']), float(home_bot_res_1['SalePrice'])]})\n",
    "res"
   ]
  },
  {
   "cell_type": "code",
   "execution_count": 91,
   "metadata": {},
   "outputs": [
    {
     "data": {
      "image/png": "[encoded data removed]",
      "text/plain": [
       "<Figure size 432x288 with 1 Axes>"
      ]
     },
     "metadata": {},
     "output_type": "display_data"
    }
   ],
   "source": [
    "ax = res.plot.bar(x='Neighborhood Categories', y='Sale Price')"
   ]
  },
  {
   "cell_type": "markdown",
   "metadata": {},
   "source": [
    "### Test 2.1 - Increase GrLivArea by 100% and perdict the price"
   ]
  },
  {
   "cell_type": "code",
   "execution_count": 92,
   "metadata": {},
   "outputs": [
    {
     "data": {
      "text/plain": [
       "1764"
      ]
     },
     "execution_count": 92,
     "metadata": {},
     "output_type": "execute_result"
    }
   ],
   "source": [
    "increase_GrLivArea = 882 * 2\n",
    "increase_GrLivArea"
   ]
  },
  {
   "cell_type": "code",
   "execution_count": 93,
   "metadata": {},
   "outputs": [],
   "source": [
    "home_top_test_2 = home[top_cols]\n",
    "home_top_test_2['GrLivArea'] = increase_GrLivArea"
   ]
  },
  {
   "cell_type": "code",
   "execution_count": 94,
   "metadata": {},
   "outputs": [
    {
     "data": {
      "text/html": [
       "<div>\n",
       "<style scoped>\n",
       "    .dataframe tbody tr th:only-of-type {\n",
       "        vertical-align: middle;\n",
       "    }\n",
       "\n",
       "    .dataframe tbody tr th {\n",
       "        vertical-align: top;\n",
       "    }\n",
       "\n",
       "    .dataframe thead th {\n",
       "        text-align: right;\n",
       "    }\n",
       "</style>\n",
       "<table border=\"1\" class=\"dataframe\">\n",
       "  <thead>\n",
       "    <tr style=\"text-align: right;\">\n",
       "      <th></th>\n",
       "      <th>Id</th>\n",
       "      <th>SalePrice</th>\n",
       "      <th>GrLivArea</th>\n",
       "      <th>OverallQual</th>\n",
       "      <th>TotRmsAbvGrd</th>\n",
       "      <th>1stFlrSF</th>\n",
       "      <th>TotalBsmtSF</th>\n",
       "      <th>GarageCars</th>\n",
       "      <th>LotArea</th>\n",
       "      <th>MasVnrArea</th>\n",
       "      <th>LotFrontage</th>\n",
       "    </tr>\n",
       "  </thead>\n",
       "  <tbody>\n",
       "    <tr>\n",
       "      <th>0</th>\n",
       "      <td>1625</td>\n",
       "      <td>227374.5625</td>\n",
       "      <td>1764</td>\n",
       "      <td>6</td>\n",
       "      <td>5</td>\n",
       "      <td>882</td>\n",
       "      <td>882.0</td>\n",
       "      <td>1.0</td>\n",
       "      <td>13008</td>\n",
       "      <td>0.0</td>\n",
       "      <td>74.0</td>\n",
       "    </tr>\n",
       "  </tbody>\n",
       "</table>\n",
       "</div>"
      ],
      "text/plain": [
       "     Id    SalePrice  GrLivArea  OverallQual  TotRmsAbvGrd  1stFlrSF  \\\n",
       "0  1625  227374.5625       1764            6             5       882   \n",
       "\n",
       "   TotalBsmtSF  GarageCars  LotArea  MasVnrArea  LotFrontage  \n",
       "0        882.0         1.0    13008         0.0         74.0  "
      ]
     },
     "execution_count": 94,
     "metadata": {},
     "output_type": "execute_result"
    }
   ],
   "source": [
    "\n",
    "home_top_test_2 = home_top_test_2.reset_index(drop=True)\n",
    "home_top_test_2_price = rfr_top.predict(home_top_test_2.values)\n",
    "home_top_test_2_price = pd.DataFrame(home_top_test_2_price, columns=['SalePrice'])\n",
    "home_top_res_2 = pd.concat([case_id, home_top_test_2_price, home_top_test_2], axis=1)\n",
    "home_top_res_2"
   ]
  },
  {
   "cell_type": "code",
   "execution_count": 95,
   "metadata": {},
   "outputs": [
    {
     "name": "stdout",
     "output_type": "stream",
     "text": [
      "0   -2724.9225\n",
      "Name: SalePrice, dtype: float64\n"
     ]
    }
   ],
   "source": [
    "price_increase = home_top_res_2['SalePrice'] - home_top_res_1['SalePrice']\n",
    "print(price_increase)\n",
    "\n",
    "# the sqf is a perdictor but probably not the strongest one\n",
    "# it's the strong correlation but does not necessary the most related factor\n",
    "# one possible explanation is that ID space is not as precious as if it is in N"
   ]
  },
  {
   "cell_type": "markdown",
   "metadata": {},
   "source": [
    "### Test 2.2 - Increase OverallQual by 2 points"
   ]
  },
  {
   "cell_type": "code",
   "execution_count": 96,
   "metadata": {},
   "outputs": [],
   "source": [
    "OverallQual = 6 + 2"
   ]
  },
  {
   "cell_type": "code",
   "execution_count": 97,
   "metadata": {},
   "outputs": [
    {
     "data": {
      "text/html": [
       "<div>\n",
       "<style scoped>\n",
       "    .dataframe tbody tr th:only-of-type {\n",
       "        vertical-align: middle;\n",
       "    }\n",
       "\n",
       "    .dataframe tbody tr th {\n",
       "        vertical-align: top;\n",
       "    }\n",
       "\n",
       "    .dataframe thead th {\n",
       "        text-align: right;\n",
       "    }\n",
       "</style>\n",
       "<table border=\"1\" class=\"dataframe\">\n",
       "  <thead>\n",
       "    <tr style=\"text-align: right;\">\n",
       "      <th></th>\n",
       "      <th>Id</th>\n",
       "      <th>SalePrice</th>\n",
       "      <th>GrLivArea</th>\n",
       "      <th>OverallQual</th>\n",
       "      <th>TotRmsAbvGrd</th>\n",
       "      <th>1stFlrSF</th>\n",
       "      <th>TotalBsmtSF</th>\n",
       "      <th>GarageCars</th>\n",
       "      <th>LotArea</th>\n",
       "      <th>MasVnrArea</th>\n",
       "      <th>LotFrontage</th>\n",
       "    </tr>\n",
       "  </thead>\n",
       "  <tbody>\n",
       "    <tr>\n",
       "      <th>0</th>\n",
       "      <td>1625</td>\n",
       "      <td>250580.4575</td>\n",
       "      <td>882</td>\n",
       "      <td>8</td>\n",
       "      <td>5</td>\n",
       "      <td>882</td>\n",
       "      <td>882.0</td>\n",
       "      <td>1.0</td>\n",
       "      <td>13008</td>\n",
       "      <td>0.0</td>\n",
       "      <td>74.0</td>\n",
       "    </tr>\n",
       "  </tbody>\n",
       "</table>\n",
       "</div>"
      ],
      "text/plain": [
       "     Id    SalePrice  GrLivArea  OverallQual  TotRmsAbvGrd  1stFlrSF  \\\n",
       "0  1625  250580.4575        882            8             5       882   \n",
       "\n",
       "   TotalBsmtSF  GarageCars  LotArea  MasVnrArea  LotFrontage  \n",
       "0        882.0         1.0    13008         0.0         74.0  "
      ]
     },
     "execution_count": 97,
     "metadata": {},
     "output_type": "execute_result"
    }
   ],
   "source": [
    "home_top_test_3 = home[top_cols]\n",
    "home_top_test_3['OverallQual'] = OverallQual\n",
    "home_top_test_3 = home_top_test_3.reset_index(drop=True)\n",
    "home_top_test_3_price = rfr_top.predict(home_top_test_3.values)\n",
    "home_top_test_3_price = pd.DataFrame(home_top_test_3_price, columns=['SalePrice'])\n",
    "home_top_res_3 = pd.concat([case_id, home_top_test_3_price, home_top_test_3], axis=1)\n",
    "home_top_res_3"
   ]
  },
  {
   "cell_type": "code",
   "execution_count": 98,
   "metadata": {},
   "outputs": [
    {
     "name": "stdout",
     "output_type": "stream",
     "text": [
      "0    20480.9725\n",
      "Name: SalePrice, dtype: float64\n"
     ]
    }
   ],
   "source": [
    "price_increase = home_top_res_3['SalePrice'] - home_top_res_1['SalePrice']\n",
    "print(price_increase)"
   ]
  },
  {
   "cell_type": "markdown",
   "metadata": {},
   "source": [
    "### Test 2.3 - Increase TotRmsAbvGrd by 2 rooms"
   ]
  },
  {
   "cell_type": "code",
   "execution_count": 99,
   "metadata": {},
   "outputs": [],
   "source": [
    "TotRmsAbvGrd = 5 + 2\n",
    "home_top_test_4 = home[top_cols]\n",
    "home_top_test_4['TotRmsAbvGrd'] = TotRmsAbvGrd"
   ]
  },
  {
   "cell_type": "code",
   "execution_count": 100,
   "metadata": {},
   "outputs": [
    {
     "data": {
      "text/plain": [
       "164    7\n",
       "Name: TotRmsAbvGrd, dtype: int64"
      ]
     },
     "execution_count": 100,
     "metadata": {},
     "output_type": "execute_result"
    }
   ],
   "source": [
    "home_top_test_4['TotRmsAbvGrd']"
   ]
  },
  {
   "cell_type": "code",
   "execution_count": 101,
   "metadata": {},
   "outputs": [
    {
     "data": {
      "text/html": [
       "<div>\n",
       "<style scoped>\n",
       "    .dataframe tbody tr th:only-of-type {\n",
       "        vertical-align: middle;\n",
       "    }\n",
       "\n",
       "    .dataframe tbody tr th {\n",
       "        vertical-align: top;\n",
       "    }\n",
       "\n",
       "    .dataframe thead th {\n",
       "        text-align: right;\n",
       "    }\n",
       "</style>\n",
       "<table border=\"1\" class=\"dataframe\">\n",
       "  <thead>\n",
       "    <tr style=\"text-align: right;\">\n",
       "      <th></th>\n",
       "      <th>Id</th>\n",
       "      <th>SalePrice</th>\n",
       "      <th>GrLivArea</th>\n",
       "      <th>OverallQual</th>\n",
       "      <th>TotRmsAbvGrd</th>\n",
       "      <th>1stFlrSF</th>\n",
       "      <th>TotalBsmtSF</th>\n",
       "      <th>GarageCars</th>\n",
       "      <th>LotArea</th>\n",
       "      <th>MasVnrArea</th>\n",
       "      <th>LotFrontage</th>\n",
       "    </tr>\n",
       "  </thead>\n",
       "  <tbody>\n",
       "    <tr>\n",
       "      <th>0</th>\n",
       "      <td>1625</td>\n",
       "      <td>233269.3975</td>\n",
       "      <td>882</td>\n",
       "      <td>6</td>\n",
       "      <td>7</td>\n",
       "      <td>882</td>\n",
       "      <td>882.0</td>\n",
       "      <td>1.0</td>\n",
       "      <td>13008</td>\n",
       "      <td>0.0</td>\n",
       "      <td>74.0</td>\n",
       "    </tr>\n",
       "  </tbody>\n",
       "</table>\n",
       "</div>"
      ],
      "text/plain": [
       "     Id    SalePrice  GrLivArea  OverallQual  TotRmsAbvGrd  1stFlrSF  \\\n",
       "0  1625  233269.3975        882            6             7       882   \n",
       "\n",
       "   TotalBsmtSF  GarageCars  LotArea  MasVnrArea  LotFrontage  \n",
       "0        882.0         1.0    13008         0.0         74.0  "
      ]
     },
     "execution_count": 101,
     "metadata": {},
     "output_type": "execute_result"
    }
   ],
   "source": [
    "home_top_test_4= home_top_test_4.reset_index(drop=True)\n",
    "home_top_test_4_price = rfr_top.predict(home_top_test_4.values)\n",
    "home_top_test_4_price = pd.DataFrame(home_top_test_4_price, columns=['SalePrice'])\n",
    "home_top_res_4 = pd.concat([case_id, home_top_test_4_price, home_top_test_4], axis=1)\n",
    "home_top_res_4"
   ]
  },
  {
   "cell_type": "code",
   "execution_count": 102,
   "metadata": {},
   "outputs": [
    {
     "name": "stdout",
     "output_type": "stream",
     "text": [
      "0    3169.9125\n",
      "Name: SalePrice, dtype: float64\n"
     ]
    }
   ],
   "source": [
    "price_increase = home_top_res_4['SalePrice'] - home_top_res_1['SalePrice']\n",
    "print(price_increase)"
   ]
  },
  {
   "cell_type": "markdown",
   "metadata": {},
   "source": [
    "### Correlation Vs. Related Factor Importance\n",
    "From the testing 2.1 to 2.3, we see that Test 2.2 and Test 2.3 yeild a positive increase in sale price when we increase the corresponding factor. However, in test 2.1, when we increase GrLivArea by 100%, the sale price decreases, even though GrLivArea has the strongest correlation with sale price. Thus we need to further analyze weather GrLivArea is the most related factor in predicting sale price. <br />\n",
    "\n",
    "Here we use ExtraTreeRegressor to assess features importances "
   ]
  },
  {
   "cell_type": "code",
   "execution_count": 103,
   "metadata": {},
   "outputs": [
    {
     "data": {
      "text/html": [
       "<div>\n",
       "<style scoped>\n",
       "    .dataframe tbody tr th:only-of-type {\n",
       "        vertical-align: middle;\n",
       "    }\n",
       "\n",
       "    .dataframe tbody tr th {\n",
       "        vertical-align: top;\n",
       "    }\n",
       "\n",
       "    .dataframe thead th {\n",
       "        text-align: right;\n",
       "    }\n",
       "</style>\n",
       "<table border=\"1\" class=\"dataframe\">\n",
       "  <thead>\n",
       "    <tr style=\"text-align: right;\">\n",
       "      <th></th>\n",
       "      <th>Id</th>\n",
       "      <th>MSSubClass</th>\n",
       "      <th>MSZoning</th>\n",
       "      <th>LotFrontage</th>\n",
       "      <th>LotArea</th>\n",
       "      <th>Street</th>\n",
       "      <th>Alley</th>\n",
       "      <th>LotShape</th>\n",
       "      <th>LandContour</th>\n",
       "      <th>Utilities</th>\n",
       "      <th>...</th>\n",
       "      <th>PoolArea</th>\n",
       "      <th>PoolQC</th>\n",
       "      <th>Fence</th>\n",
       "      <th>MiscFeature</th>\n",
       "      <th>MiscVal</th>\n",
       "      <th>MoSold</th>\n",
       "      <th>YrSold</th>\n",
       "      <th>SaleType</th>\n",
       "      <th>SaleCondition</th>\n",
       "      <th>SalePrice</th>\n",
       "    </tr>\n",
       "  </thead>\n",
       "  <tbody>\n",
       "    <tr>\n",
       "      <th>4</th>\n",
       "      <td>5</td>\n",
       "      <td>60</td>\n",
       "      <td>RL</td>\n",
       "      <td>84.0</td>\n",
       "      <td>14260</td>\n",
       "      <td>Pave</td>\n",
       "      <td>NaN</td>\n",
       "      <td>IR1</td>\n",
       "      <td>Lvl</td>\n",
       "      <td>AllPub</td>\n",
       "      <td>...</td>\n",
       "      <td>0</td>\n",
       "      <td>NaN</td>\n",
       "      <td>NaN</td>\n",
       "      <td>NaN</td>\n",
       "      <td>0</td>\n",
       "      <td>12</td>\n",
       "      <td>2008</td>\n",
       "      <td>WD</td>\n",
       "      <td>Normal</td>\n",
       "      <td>250000</td>\n",
       "    </tr>\n",
       "    <tr>\n",
       "      <th>11</th>\n",
       "      <td>12</td>\n",
       "      <td>60</td>\n",
       "      <td>RL</td>\n",
       "      <td>85.0</td>\n",
       "      <td>11924</td>\n",
       "      <td>Pave</td>\n",
       "      <td>NaN</td>\n",
       "      <td>IR1</td>\n",
       "      <td>Lvl</td>\n",
       "      <td>AllPub</td>\n",
       "      <td>...</td>\n",
       "      <td>0</td>\n",
       "      <td>NaN</td>\n",
       "      <td>NaN</td>\n",
       "      <td>NaN</td>\n",
       "      <td>0</td>\n",
       "      <td>7</td>\n",
       "      <td>2006</td>\n",
       "      <td>New</td>\n",
       "      <td>Partial</td>\n",
       "      <td>345000</td>\n",
       "    </tr>\n",
       "    <tr>\n",
       "      <th>20</th>\n",
       "      <td>21</td>\n",
       "      <td>60</td>\n",
       "      <td>RL</td>\n",
       "      <td>101.0</td>\n",
       "      <td>14215</td>\n",
       "      <td>Pave</td>\n",
       "      <td>NaN</td>\n",
       "      <td>IR1</td>\n",
       "      <td>Lvl</td>\n",
       "      <td>AllPub</td>\n",
       "      <td>...</td>\n",
       "      <td>0</td>\n",
       "      <td>NaN</td>\n",
       "      <td>NaN</td>\n",
       "      <td>NaN</td>\n",
       "      <td>0</td>\n",
       "      <td>11</td>\n",
       "      <td>2006</td>\n",
       "      <td>New</td>\n",
       "      <td>Partial</td>\n",
       "      <td>325300</td>\n",
       "    </tr>\n",
       "    <tr>\n",
       "      <th>25</th>\n",
       "      <td>26</td>\n",
       "      <td>20</td>\n",
       "      <td>RL</td>\n",
       "      <td>110.0</td>\n",
       "      <td>14230</td>\n",
       "      <td>Pave</td>\n",
       "      <td>NaN</td>\n",
       "      <td>Reg</td>\n",
       "      <td>Lvl</td>\n",
       "      <td>AllPub</td>\n",
       "      <td>...</td>\n",
       "      <td>0</td>\n",
       "      <td>NaN</td>\n",
       "      <td>NaN</td>\n",
       "      <td>NaN</td>\n",
       "      <td>0</td>\n",
       "      <td>7</td>\n",
       "      <td>2009</td>\n",
       "      <td>WD</td>\n",
       "      <td>Normal</td>\n",
       "      <td>256300</td>\n",
       "    </tr>\n",
       "    <tr>\n",
       "      <th>27</th>\n",
       "      <td>28</td>\n",
       "      <td>20</td>\n",
       "      <td>RL</td>\n",
       "      <td>98.0</td>\n",
       "      <td>11478</td>\n",
       "      <td>Pave</td>\n",
       "      <td>NaN</td>\n",
       "      <td>Reg</td>\n",
       "      <td>Lvl</td>\n",
       "      <td>AllPub</td>\n",
       "      <td>...</td>\n",
       "      <td>0</td>\n",
       "      <td>NaN</td>\n",
       "      <td>NaN</td>\n",
       "      <td>NaN</td>\n",
       "      <td>0</td>\n",
       "      <td>5</td>\n",
       "      <td>2010</td>\n",
       "      <td>WD</td>\n",
       "      <td>Normal</td>\n",
       "      <td>306000</td>\n",
       "    </tr>\n",
       "  </tbody>\n",
       "</table>\n",
       "<p>5 rows × 81 columns</p>\n",
       "</div>"
      ],
      "text/plain": [
       "    Id  MSSubClass MSZoning  LotFrontage  LotArea Street Alley LotShape  \\\n",
       "4    5          60       RL         84.0    14260   Pave   NaN      IR1   \n",
       "11  12          60       RL         85.0    11924   Pave   NaN      IR1   \n",
       "20  21          60       RL        101.0    14215   Pave   NaN      IR1   \n",
       "25  26          20       RL        110.0    14230   Pave   NaN      Reg   \n",
       "27  28          20       RL         98.0    11478   Pave   NaN      Reg   \n",
       "\n",
       "   LandContour Utilities  ... PoolArea PoolQC  Fence MiscFeature MiscVal  \\\n",
       "4          Lvl    AllPub  ...        0    NaN    NaN         NaN       0   \n",
       "11         Lvl    AllPub  ...        0    NaN    NaN         NaN       0   \n",
       "20         Lvl    AllPub  ...        0    NaN    NaN         NaN       0   \n",
       "25         Lvl    AllPub  ...        0    NaN    NaN         NaN       0   \n",
       "27         Lvl    AllPub  ...        0    NaN    NaN         NaN       0   \n",
       "\n",
       "   MoSold YrSold  SaleType  SaleCondition  SalePrice  \n",
       "4      12   2008        WD         Normal     250000  \n",
       "11      7   2006       New        Partial     345000  \n",
       "20     11   2006       New        Partial     325300  \n",
       "25      7   2009        WD         Normal     256300  \n",
       "27      5   2010        WD         Normal     306000  \n",
       "\n",
       "[5 rows x 81 columns]"
      ]
     },
     "execution_count": 103,
     "metadata": {},
     "output_type": "execute_result"
    },
    {
     "data": {
      "text/plain": [
       "<Figure size 936x360 with 0 Axes>"
      ]
     },
     "metadata": {},
     "output_type": "display_data"
    }
   ],
   "source": [
    "from sklearn.ensemble import ExtraTreesRegressor\n",
    "\n",
    "sns.set_style(\"whitegrid\")\n",
    "plt.figure(figsize=[13,5])\n",
    "df = data_top\n",
    "df.head()"
   ]
  },
  {
   "cell_type": "code",
   "execution_count": 104,
   "metadata": {},
   "outputs": [
    {
     "data": {
      "image/png": "[encoded data removed]",
      "text/plain": [
       "<Figure size 432x288 with 1 Axes>"
      ]
     },
     "metadata": {},
     "output_type": "display_data"
    }
   ],
   "source": [
    "\n",
    "model = ExtraTreesRegressor(n_estimators=10)\n",
    "model.fit(df[top_cols], df.SalePrice)\n",
    "# display the relative importance of each attribute\n",
    "\n",
    "sorted_feature_importance = sorted(zip(model.feature_importances_, df[top_cols].columns))\n",
    "\n",
    "x = [a[0] for a in sorted_feature_importance]\n",
    "y = [a[1] for a in sorted_feature_importance]\n",
    "\n",
    "plt.scatter(x,y)\n",
    "plt.title('Feature Importances')\n",
    "plt.show()"
   ]
  },
  {
   "cell_type": "markdown",
   "metadata": {},
   "source": [
    "The above figure indicates that OverallQual is the most important factor in price perdiction. Even tho GrLivArea has the highest correlation, it is ranked third in price perdiction."
   ]
  },
  {
   "cell_type": "code",
   "execution_count": null,
   "metadata": {},
   "outputs": [],
   "source": []
  }
 ],
 "metadata": {
  "kernelspec": {
   "display_name": "Python 3.6",
   "language": "python",
   "name": "python3"
  },
  "language_info": {
   "codemirror_mode": {
    "name": "ipython",
    "version": 3
   },
   "file_extension": ".py",
   "mimetype": "text/x-python",
   "name": "python",
   "nbconvert_exporter": "python",
   "pygments_lexer": "ipython3",
   "version": "3.6.8"
  }
 },
 "nbformat": 4,
 "nbformat_minor": 1
}
